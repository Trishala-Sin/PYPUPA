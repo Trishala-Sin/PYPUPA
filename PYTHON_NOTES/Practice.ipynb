{
 "cells": [
  {
   "cell_type": "code",
   "execution_count": 3,
   "metadata": {},
   "outputs": [
    {
     "name": "stdout",
     "output_type": "stream",
     "text": [
      "[('amazing', 'fine'), ('acting', 'theatrics'), ('abilities', 'talent')]\n"
     ]
    }
   ],
   "source": [
    "\n",
    "\n",
    "sent1 = [\"amazing\",\"acting\",\"abilities\"]\n",
    "sent2 = [\"fine\",\"theatrics\",\"talent\"]\n",
    "\n",
    "similar_words = [[\"amazing\",\"fine\"],[\"fine\",\"good\"],[\"acting\",\"theatrics\"],[\"abilities\",\"talent\"]]\n",
    "\n",
    "\n",
    "\n",
    "test_pairs = list(zip(sent1,sent2))\n",
    "\n",
    "print(test_pairs)\n"
   ]
  },
  {
   "cell_type": "code",
   "execution_count": 40,
   "metadata": {},
   "outputs": [
    {
     "name": "stdout",
     "output_type": "stream",
     "text": [
      "7\n",
      "{'amazing': ['amazing', 'fine', 'fine', 'good', 'acting', 'theatrics', 'abilities', 'talent'], 'fine': ['amazing', 'fine', 'fine', 'good', 'acting', 'theatrics', 'abilities', 'talent'], 'acting': ['amazing', 'fine', 'fine', 'good', 'acting', 'theatrics', 'abilities', 'talent'], 'theatrics': ['amazing', 'fine', 'fine', 'good', 'acting', 'theatrics', 'abilities', 'talent'], 'abilities': ['amazing', 'fine', 'fine', 'good', 'acting', 'theatrics', 'abilities', 'talent'], 'talent': ['amazing', 'fine', 'fine', 'good', 'acting', 'theatrics', 'abilities', 'talent']}\n"
     ]
    }
   ],
   "source": [
    "yes = 0 \n",
    "SMW =dict()\n",
    "SM = []\n",
    "for pair in test_pairs:\n",
    "    for i,word in enumerate(pair):\n",
    "        \n",
    "        for spair in similar_words:\n",
    "            for j,sword in enumerate(spair):\n",
    "                if i == j and word == sword:\n",
    "                    yes +=1\n",
    "                    key = pair[i]\n",
    "                    SM.append(word)\n",
    "                    SMW[key] = SM \n",
    "                if i!=j and word == sword:\n",
    "                    yes +=1\n",
    "                    key = pair[i]\n",
    "                    SM.extend(spair)\n",
    "                    SMW[key] = SM\n",
    "                else:\n",
    "                    pass\n",
    "#    return set(SM)\n",
    "\n",
    "        \n",
    "print(yes)\n",
    "print(SMW)\n",
    "#print(set(SM))\n",
    "#if set(sent1).issubset(set(SM)) and set(sent2).issubset(set(SM)):\n",
    "    #print(\" The two sentences are simillar\")\n",
    "#else:\n",
    "    #print(\" not simillar\")"
   ]
  },
  {
   "cell_type": "code",
   "execution_count": 20,
   "metadata": {},
   "outputs": [
    {
     "name": "stdout",
     "output_type": "stream",
     "text": [
      "yes :  7\n",
      "\n",
      "SM :  {'abilities', 'theatrics', 'fine', 'amazing', 'acting', 'talent'}\n",
      "\n",
      "The two sentences are simillar\n"
     ]
    }
   ],
   "source": [
    "yes = 0 \n",
    "SM =[]\n",
    "for pair in test_pairs:\n",
    "    \n",
    "    for word in pair:\n",
    "        \n",
    "        for spair in similar_words:\n",
    "            \n",
    "            for sword in spair:\n",
    "                if word == sword:\n",
    "                    yes +=1\n",
    "                    SM.append(word)\n",
    "                \n",
    "print(\"yes : \",yes)\n",
    "print(\"\\nSM : \",set(SM))\n",
    "\n",
    "if set(sent1).issubset(set(SM)) and set(sent2).issubset(set(SM)):\n",
    "    print(\"\\nThe two sentences are simillar\")\n",
    "else:\n",
    "    print(\" not simillar\")"
   ]
  },
  {
   "cell_type": "code",
   "execution_count": null,
   "metadata": {},
   "outputs": [],
   "source": []
  },
  {
   "cell_type": "code",
   "execution_count": null,
   "metadata": {},
   "outputs": [],
   "source": [
    "r u there in call"
   ]
  },
  {
   "cell_type": "markdown",
   "metadata": {},
   "source": [
    "no"
   ]
  },
  {
   "cell_type": "code",
   "execution_count": 71,
   "metadata": {},
   "outputs": [
    {
     "name": "stdout",
     "output_type": "stream",
     "text": [
      "16\n"
     ]
    }
   ],
   "source": [
    "a1 = [\"123\",'543']\n",
    "\n",
    "a2 = [\"321\", \"279\" ]\n",
    "\n",
    "t = 0 \n",
    "for x in range(len(a1)):\n",
    "    for i in a1[x].split():\n",
    "        for j in a2[x].split(): \n",
    "            u = len(i)\n",
    "            while u >0:\n",
    "                u  = u - 1\n",
    "                t = t + abs(int(i[u]) - int(j[u]))\n",
    "                \n",
    "print(t)          \n",
    "            #t += abs(int(v[i])-int(k[i])\n",
    "        \n",
    "        \n",
    "        #z = abs(x-y)\n",
    "        #print(x,y)\n",
    "\n",
    "output = 16"
   ]
  },
  {
   "cell_type": "code",
   "execution_count": 72,
   "metadata": {},
   "outputs": [
    {
     "name": "stdout",
     "output_type": "stream",
     "text": [
      "10\n"
     ]
    }
   ],
   "source": [
    "\n",
    "a1 = [\"1234\", \"4321\"]\n",
    "a2 = [\"2345\", \"3214\"]\n",
    "\n",
    "t = 0 \n",
    "for x in range(len(a1)):\n",
    "    for i in a1[x].split():\n",
    "        for j in a2[x].split(): \n",
    "            u = len(i)\n",
    "            while u >0:\n",
    "                u  = u - 1\n",
    "                t = t + abs(int(i[u]) - int(j[u]))\n",
    "                \n",
    "print(t)          \n",
    "         \n",
    "\n",
    "output = 10"
   ]
  },
  {
   "cell_type": "code",
   "execution_count": 73,
   "metadata": {},
   "outputs": [
    {
     "name": "stdout",
     "output_type": "stream",
     "text": [
      "10\n"
     ]
    }
   ],
   "source": [
    "a1 = [1234,4321 ]\n",
    "a2 = [2345, 3214]\n",
    "\n",
    "\n",
    "def t2(a1, a2):\n",
    "    count = 0\n",
    "    for i in range(len(a1)):\n",
    "        for j in range(len(str(i))):\n",
    "            \n",
    "            res1 = str(a1[i])\n",
    "            res2 = str(a2[i])\n",
    "            for k in range(len(res1)):\n",
    "                result = abs(int(res1[k]) - int(res2[k]))\n",
    "                count = result + count\n",
    "    print(str(count))\n",
    "                              \n",
    "                             \n",
    "t2(a1, a2)"
   ]
  },
  {
   "cell_type": "code",
   "execution_count": 75,
   "metadata": {},
   "outputs": [
    {
     "name": "stdout",
     "output_type": "stream",
     "text": [
      "10\n"
     ]
    }
   ],
   "source": [
    "\n",
    "\n",
    "a1 = [\"1234\", \"4321\"]\n",
    "a2 = [\"2345\", \"3214\"]\n",
    "\n",
    "t = 0 \n",
    "for x in range(len(a1)):\n",
    "    for i in a1[x].split():\n",
    "        for j in a2[x].split(): \n",
    "            #print(i,j)\n",
    "            u = len(i)\n",
    "            while u >0:\n",
    "                u  = u - 1\n",
    "                t = t + abs(int(i[u]) - int(j[u]))\n",
    "                \n",
    "print(t)  "
   ]
  },
  {
   "cell_type": "code",
   "execution_count": 76,
   "metadata": {},
   "outputs": [
    {
     "name": "stdout",
     "output_type": "stream",
     "text": [
      "16\n"
     ]
    }
   ],
   "source": [
    "a1 = [123,543]\n",
    "a2 = [321, 279]\n",
    "\n",
    "# a1 = [1234,4321]\n",
    "# a2 = [2345, 3214]\n",
    "\n",
    "\n",
    "def t2(a1, a2):\n",
    "    count = 0\n",
    "    for i in range(len(a1)):            \n",
    "            res1 = str(a1[i])\n",
    "            res2 = str(a2[i])\n",
    "            for k in range(len(res1)):\n",
    "                result = abs(int(res1[k]) - int(res2[k]))\n",
    "                count = result + count\n",
    "    print(str(count))\n",
    "                              \n",
    "                             \n",
    "t2(a1, a2)"
   ]
  },
  {
   "cell_type": "code",
   "execution_count": null,
   "metadata": {},
   "outputs": [],
   "source": []
  }
 ],
 "metadata": {
  "kernelspec": {
   "display_name": "Python 3",
   "language": "python",
   "name": "python3"
  },
  "language_info": {
   "codemirror_mode": {
    "name": "ipython",
    "version": 3
   },
   "file_extension": ".py",
   "mimetype": "text/x-python",
   "name": "python",
   "nbconvert_exporter": "python",
   "pygments_lexer": "ipython3",
   "version": "3.7.1"
  }
 },
 "nbformat": 4,
 "nbformat_minor": 2
}
