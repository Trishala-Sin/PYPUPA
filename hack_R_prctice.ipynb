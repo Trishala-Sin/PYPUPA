{
 "cells": [
  {
   "cell_type": "code",
   "execution_count": 1,
   "metadata": {},
   "outputs": [
    {
     "name": "stdout",
     "output_type": "stream",
     "text": [
      "7 21\n",
      "[0, 1, 2]\n"
     ]
    }
   ],
   "source": [
    "n, m = map(int,input().split())\n",
    "pattern = [i for i in range(n//2)]\n",
    "#pattern = [('.|.'*(2*i + 1)).center(m, '-') for i in range(n//2)]\n",
    "print(pattern)\n",
    "#print('\\n'.join(pattern + ['WELCOME'.center(m, '-')] + pattern[::-1]))"
   ]
  },
  {
   "cell_type": "code",
   "execution_count": 9,
   "metadata": {},
   "outputs": [
    {
     "name": "stdout",
     "output_type": "stream",
     "text": [
      "1\n",
      "2\n",
      "3\n",
      "1\n",
      "3\n"
     ]
    }
   ],
   "source": [
    "# linked list \n",
    "\n",
    "class Node(object):\n",
    "    def __init__(self,data):\n",
    "        self.data = data\n",
    "        self.next = None\n",
    "\n",
    "\n",
    "class linked_list(object):\n",
    "    def __init__(self,head = None):\n",
    "        self.head = head\n",
    "    \n",
    "    def insert(self,ele):\n",
    "        temp = self.head\n",
    "        if temp:\n",
    "            while temp.next :\n",
    "                temp = temp.next\n",
    "            temp.next = ele\n",
    "        else:\n",
    "            self.head = ele\n",
    "    \n",
    "    def delete(self,val):\n",
    "        temp = self.head\n",
    "        if temp.data == val:\n",
    "            temp = temp.next\n",
    "        while temp != None:\n",
    "            if temp.data == val:\n",
    "                prev.next = temp.next\n",
    "                temp = temp.next\n",
    "            else:\n",
    "                prev = temp\n",
    "                temp = temp.next\n",
    "        return\n",
    "                    \n",
    "    def display(self):\n",
    "        temp = self.head\n",
    "        while temp != None:\n",
    "            print(temp.data)\n",
    "            temp = temp.next\n",
    "    \n",
    "    \n",
    "\n",
    "if __name__ == '__main__':\n",
    "    \n",
    "    node1 = Node(1)\n",
    "    node2 = Node(2)\n",
    "    node3 = Node(3)\n",
    "    \n",
    "    li = linked_list()\n",
    "    \n",
    "    li.insert(node1)\n",
    "    li.insert(node2)\n",
    "    li.insert(node3)\n",
    "    \n",
    "    li.display()\n",
    "    \n",
    "    li.delete(2)\n",
    "    li.display()\n",
    "    \n",
    "        \n",
    "\n"
   ]
  },
  {
   "cell_type": "code",
   "execution_count": 32,
   "metadata": {},
   "outputs": [
    {
     "name": "stdout",
     "output_type": "stream",
     "text": [
      "3\n",
      "True\n"
     ]
    }
   ],
   "source": [
    "# binary Search Tree \n",
    "\n",
    "class bstnode():\n",
    "    def __init__(self,data):\n",
    "        self.data = data\n",
    "        self.left = None\n",
    "        self.right = None\n",
    "    \n",
    "    def search(self,val):\n",
    "        if self.data == val:\n",
    "            print(True)\n",
    "        if self.left :\n",
    "            if self.data > val:\n",
    "                return(self.left.search(val))\n",
    "        if self.right:\n",
    "            if self.data < val:\n",
    "                return(self.right.search(val))\n",
    "            \n",
    "#if __name__ == '__main__':\n",
    "    \n",
    "root = bstnode(2)\n",
    "root.left = bstnode(1)\n",
    "root.right = bstnode(3)\n",
    "print(root.right.data)\n",
    "root.search(3)\n",
    "    #root.search(3)\n",
    "    "
   ]
  },
  {
   "cell_type": "code",
   "execution_count": 31,
   "metadata": {},
   "outputs": [
    {
     "name": "stdout",
     "output_type": "stream",
     "text": [
      "3\n",
      "True\n",
      "None\n"
     ]
    }
   ],
   "source": [
    "class node():\n",
    "    def __init__(self,data):\n",
    "        self.left = None\n",
    "        self.right = None\n",
    "        self.data  = data\n",
    "    def search(self,value_search):\n",
    "        if  self.data == value_search:\n",
    "            print( True)\n",
    "        if self.left:    \n",
    "            if self.data >    value_search:\n",
    "                return(self.left.search(value_search))\n",
    "        if self.right:        \n",
    "            if self.data <    value_search:\n",
    "                return(self.right.search(value_search))\n",
    "root = node(2)\n",
    "root.left = node(1)\n",
    "root.right = node(3)\n",
    "print(root.right.data)\n",
    "print(root.search(3))"
   ]
  },
  {
   "cell_type": "code",
   "execution_count": null,
   "metadata": {},
   "outputs": [],
   "source": [
    "class bst():\n",
    "    def __init__(self,data):\n",
    "        self.root = data \n",
    "        self.left = None\n",
    "        self.right = None\n",
    "        \n",
    "    def insert_val(self,data):\n",
    "        if data == self.root:\n",
    "            return\n",
    "        if data < self.root:\n",
    "            if self.left:\n",
    "                self.left.insert_val(data)\n",
    "            else:\n",
    "                self.left.bst(data)\n",
    "        else:\n",
    "            if self.right:\n",
    "                self.right.insert_val(data)\n",
    "            else:\n",
    "                self.right.bst(data)\n",
    "    def\n",
    "            \n",
    "\n",
    "\n",
    "\n",
    "\n"
   ]
  }
 ],
 "metadata": {
  "kernelspec": {
   "display_name": "Python 3",
   "language": "python",
   "name": "python3"
  },
  "language_info": {
   "codemirror_mode": {
    "name": "ipython",
    "version": 3
   },
   "file_extension": ".py",
   "mimetype": "text/x-python",
   "name": "python",
   "nbconvert_exporter": "python",
   "pygments_lexer": "ipython3",
   "version": "3.7.1"
  }
 },
 "nbformat": 4,
 "nbformat_minor": 2
}
