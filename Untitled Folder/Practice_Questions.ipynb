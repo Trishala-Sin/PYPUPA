{
 "cells": [
  {
   "cell_type": "markdown",
   "id": "379ba0fc",
   "metadata": {},
   "source": [
    "Given an array Arr[] of N integers. Find the contiguous sub-array(containing at least one number) which has the maximum sum and return its sum.\n",
    "\n",
    "\n",
    "Example 1:\n",
    "\n",
    "Input:\n",
    "N = 5\n",
    "Arr[] = {1,2,3,-2,5}\n",
    "Output:\n",
    "9\n",
    "Explanation:\n",
    "Max subarray sum is 9\n",
    "of elements (1, 2, 3, -2, 5) which \n",
    "is a contiguous subarray.\n",
    "Example 2:\n",
    "\n",
    "Input:\n",
    "N = 4\n",
    "Arr[] = {-1,-2,-3,-4}\n",
    "Output:\n",
    "-1\n",
    "Explanation:\n",
    "Max subarray sum is -1 \n",
    "of element (-1)\n",
    "\n",
    "Your Task:\n",
    "You don't need to read input or print anything. The task is to complete the function maxSubarraySum() \n",
    "which takes Arr[] and N as input parameters and returns the sum of subarray with maximum sum."
   ]
  },
  {
   "cell_type": "code",
   "execution_count": null,
   "id": "81c4460e",
   "metadata": {},
   "outputs": [],
   "source": []
  },
  {
   "cell_type": "code",
   "execution_count": null,
   "id": "e3251ec8",
   "metadata": {},
   "outputs": [],
   "source": []
  },
  {
   "cell_type": "code",
   "execution_count": null,
   "id": "d53ee693",
   "metadata": {},
   "outputs": [],
   "source": []
  },
  {
   "cell_type": "markdown",
   "id": "bd071811",
   "metadata": {},
   "source": [
    "given 2 list of five fruits, arrange the L2 in the order of L1 '\\n'\n",
    "\n",
    "    * L1 = ['grapes','kiwi','banana','apple','berry']\n",
    "    * L2 = ['Kiwi','apple','banana','grapes','berry']\n"
   ]
  },
  {
   "cell_type": "code",
   "execution_count": 68,
   "id": "39d02434",
   "metadata": {},
   "outputs": [],
   "source": [
    "L1 = ['grapes','kiwi','banana','apple','berry']\n",
    "L2 = ['kiwi','apple','banana','grapes','berry']\n"
   ]
  },
  {
   "cell_type": "code",
   "execution_count": 56,
   "id": "6fec6df4",
   "metadata": {},
   "outputs": [],
   "source": [
    "d = {k:v for v,k in enumerate(L1)}\n"
   ]
  },
  {
   "cell_type": "code",
   "execution_count": 57,
   "id": "eb942f13",
   "metadata": {},
   "outputs": [],
   "source": [
    "L2.sort(key=d.get)"
   ]
  },
  {
   "cell_type": "code",
   "execution_count": 58,
   "id": "47c29a25",
   "metadata": {},
   "outputs": [
    {
     "data": {
      "text/plain": [
       "['grapes', 'kiwi', 'banana', 'apple', 'berry']"
      ]
     },
     "execution_count": 58,
     "metadata": {},
     "output_type": "execute_result"
    }
   ],
   "source": [
    "L2"
   ]
  },
  {
   "cell_type": "code",
   "execution_count": 70,
   "id": "6be99d71",
   "metadata": {},
   "outputs": [
    {
     "data": {
      "text/plain": [
       "['grapes', 'kiwi', 'banana', 'apple', 'berry']"
      ]
     },
     "execution_count": 70,
     "metadata": {},
     "output_type": "execute_result"
    }
   ],
   "source": [
    "\n",
    "\n",
    "\n",
    "L1.index('grapes')\n",
    "L2[0]\n",
    "for i in L1:\n",
    "    c = L1.index(i)\n",
    "    if L2[c]!= i:\n",
    "        a = L2[c]\n",
    "        b = L2.index(i)\n",
    "        L2[b]=a\n",
    "        L2[c]= i\n",
    "    \n",
    "L2"
   ]
  },
  {
   "cell_type": "code",
   "execution_count": 8,
   "id": "56b89d20",
   "metadata": {},
   "outputs": [],
   "source": [
    "\n",
    "def nskgram(str1):\n",
    "    string = str1.split()\n",
    "    L1 = []\n",
    "    for i,v in enumerate(string):\n",
    "        if i != len(string)-1:\n",
    "            L1.append((string[i],string[i+1]))\n",
    "    return(L1)\n"
   ]
  },
  {
   "cell_type": "code",
   "execution_count": 9,
   "id": "d2fbcbf1",
   "metadata": {},
   "outputs": [
    {
     "name": "stdout",
     "output_type": "stream",
     "text": [
      "[('Rakesh', 'is'), ('is', 'data'), ('data', 'scientist')]\n"
     ]
    }
   ],
   "source": [
    "sent = \"Rakesh is data scientist\"\n",
    "\n",
    "print(nskgram(sent))"
   ]
  },
  {
   "cell_type": "code",
   "execution_count": null,
   "id": "94ca5942",
   "metadata": {},
   "outputs": [],
   "source": []
  }
 ],
 "metadata": {
  "kernelspec": {
   "display_name": "Python 3",
   "language": "python",
   "name": "python3"
  },
  "language_info": {
   "codemirror_mode": {
    "name": "ipython",
    "version": 3
   },
   "file_extension": ".py",
   "mimetype": "text/x-python",
   "name": "python",
   "nbconvert_exporter": "python",
   "pygments_lexer": "ipython3",
   "version": "3.7.1"
  }
 },
 "nbformat": 4,
 "nbformat_minor": 5
}
