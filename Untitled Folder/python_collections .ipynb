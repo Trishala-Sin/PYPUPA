{
 "cells": [
  {
   "cell_type": "markdown",
   "id": "59d73697",
   "metadata": {},
   "source": [
    "The collection Module in Python provides different types of containers. \n",
    "* A Container is an object that is used to store different objects and provide a way to access the contained objects and iterate over them.\n",
    "\n",
    "Some of the built-in containers are Tuple, List, Dictionary, etc. \n",
    "\n",
    "    * Counters\n",
    "    * OrderedDict\n",
    "    * DefaultDict\n",
    "    * ChainMap\n",
    "    * NamedTuple\n",
    "    * Deque\n",
    "    * UserDict\n",
    "    * Userlist\n",
    "    * UserString\n",
    "    \n",
    "    "
   ]
  },
  {
   "cell_type": "markdown",
   "id": "1ca1a444",
   "metadata": {},
   "source": [
    "\n",
    "A counter is a sub-class of the dictionary. It is used to keep the count of the elements in an iterable in the form of an unordered dictionary where the key represents the element in the iterable and value represents the count of that element in the iterable.\n",
    "\n",
    "Note: It is equivalent to bag or multiset of other languages.\n",
    "\n",
    "this function can be called in one of the following ways:\n",
    "\n",
    "With a sequence of items\n",
    "With a dictionary containing keys and counts\n",
    "With keyword arguments mapping string names to counts"
   ]
  },
  {
   "cell_type": "code",
   "execution_count": 9,
   "id": "71ff5ebf",
   "metadata": {},
   "outputs": [
    {
     "name": "stdout",
     "output_type": "stream",
     "text": [
      "Counter({'B': 2, 'A': 2, 'C': 1})  and Counter({'B': 3, 'A': 2})  and Counter({'B': 5, 'A': 3, 'C': 2})\n"
     ]
    }
   ],
   "source": [
    "# A Python program to show different\n",
    "# ways to create Counter\n",
    "\n",
    "from collections import Counter\n",
    "\n",
    "X = ['B','B','A','A','C'] # passing a list\n",
    "Y = { 'B':3, 'A':2} # a dict \n",
    "\n",
    "\n",
    "print(Counter(X),\" and\",Counter(Y),\" and\", Counter(A=3, B=5, C=2)) # last was just keyword arguments"
   ]
  },
  {
   "cell_type": "code",
   "execution_count": 3,
   "id": "9c92aca4",
   "metadata": {},
   "outputs": [
    {
     "name": "stdout",
     "output_type": "stream",
     "text": [
      "Counter({'B': 5, 'A': 3, 'C': 2})\n",
      "Counter({'B': 5, 'A': 3, 'C': 2})\n",
      "Counter({'B': 5, 'A': 3, 'C': 2})\n"
     ]
    }
   ],
   "source": [
    "# A Python program to show different\n",
    "# ways to create Counter\n",
    "from collections import Counter\n",
    "\n",
    "# With sequence of items\n",
    "print(Counter(['B','B','A','B','C','A','B',\n",
    "\t\t\t'B','A','C']))\n",
    "\n",
    "# with dictionary\n",
    "print(Counter({'A':3, 'B':5, 'C':2}))\n",
    "\n",
    "# with keyword arguments\n",
    "print(Counter(A=3, B=5, C=2))\n"
   ]
  },
  {
   "cell_type": "code",
   "execution_count": 11,
   "id": "32ba5b86",
   "metadata": {},
   "outputs": [
    {
     "name": "stdout",
     "output_type": "stream",
     "text": [
      "Key: a - val: 3\n",
      "Key: b - val: 4\n",
      "Key: c - val: 5\n"
     ]
    }
   ],
   "source": [
    "#Dictionary\n",
    "\n",
    "d = {}\n",
    "d['a'] = 3\n",
    "d['b'] = 4\n",
    "d['c'] = 5\n",
    "\n",
    "for i,v in d.items():\n",
    "    print('Key:', i ,'-','val:',v)"
   ]
  },
  {
   "cell_type": "markdown",
   "id": "cdb7d456",
   "metadata": {},
   "source": [
    "### OrderedDict \n",
    "\n",
    "While deleting and re-inserting the same key will push the key to the last to maintain the order of insertion of the key."
   ]
  },
  {
   "cell_type": "code",
   "execution_count": 14,
   "id": "4f473e3c",
   "metadata": {},
   "outputs": [
    {
     "name": "stdout",
     "output_type": "stream",
     "text": [
      "Key: a - val: 3\n",
      "Key: b - val: 5\n",
      "Key: c - val: 2\n"
     ]
    }
   ],
   "source": [
    "from collections import OrderedDict\n",
    "\n",
    "Od = OrderedDict()\n",
    "\n",
    "Od['a'] = 3\n",
    "Od['b'] = 5\n",
    "Od['c'] = 2\n",
    "\n",
    "for i,v in Od.items():\n",
    "    print('Key:', i ,'-','val:',v)"
   ]
  },
  {
   "cell_type": "code",
   "execution_count": 15,
   "id": "96f18c33",
   "metadata": {},
   "outputs": [
    {
     "name": "stdout",
     "output_type": "stream",
     "text": [
      "This is a Dict:\n",
      "\n",
      "a 1\n",
      "b 2\n",
      "c 3\n",
      "d 4\n",
      "\n",
      "This is an Ordered Dict:\n",
      "\n",
      "a 1\n",
      "b 2\n",
      "c 3\n",
      "d 4\n"
     ]
    }
   ],
   "source": [
    "# A Python program to demonstrate working\n",
    "# of OrderedDict\n",
    "\n",
    "from collections import OrderedDict\n",
    "\n",
    "print(\"This is a Dict:\\n\")\n",
    "d = {}\n",
    "d['a'] = 1\n",
    "d['b'] = 2\n",
    "d['c'] = 3\n",
    "d['d'] = 4\n",
    "\n",
    "for key, value in d.items():\n",
    "\tprint(key, value)\n",
    "\n",
    "print(\"\\nThis is an Ordered Dict:\\n\")\n",
    "od = OrderedDict()\n",
    "od['a'] = 1\n",
    "od['b'] = 2\n",
    "od['c'] = 3\n",
    "od['d'] = 4\n",
    "\n",
    "for key, value in od.items():\n",
    "\tprint(key, value)\n"
   ]
  },
  {
   "cell_type": "code",
   "execution_count": 17,
   "id": "9bcebc36",
   "metadata": {},
   "outputs": [
    {
     "data": {
      "text/plain": [
       "OrderedDict([('a', 3), ('c', 2)])"
      ]
     },
     "execution_count": 17,
     "metadata": {},
     "output_type": "execute_result"
    }
   ],
   "source": [
    "\n",
    "## Demo of the order of insertion \n",
    "Od.pop('b')\n",
    "Od"
   ]
  },
  {
   "cell_type": "code",
   "execution_count": 18,
   "id": "d01b912f",
   "metadata": {},
   "outputs": [
    {
     "data": {
      "text/plain": [
       "OrderedDict([('a', 3), ('c', 2), ('b', 5)])"
      ]
     },
     "execution_count": 18,
     "metadata": {},
     "output_type": "execute_result"
    }
   ],
   "source": [
    "Od['b'] = 5\n",
    "Od"
   ]
  },
  {
   "cell_type": "markdown",
   "id": "d8681c29",
   "metadata": {},
   "source": [
    "### DefautDict \n",
    "\n",
    "A DefaultDict is also a sub-class to dictionary. It is used to provide some default values for the key that does not exist and never raises a KeyError.\n",
    "\n",
    "Syntax:\n",
    "\n",
    "class collections.defaultdict(default_factory) # invoking the constructor for defaultdict\n",
    "\n",
    "default_factory is a function that provides the default value for the dictionary created. If this parameter is absent then the KeyError is raised.\n",
    "\n",
    "    *DefaultDict objects can be initialized using DefaultDict() method by passing the data type as an argument."
   ]
  },
  {
   "cell_type": "code",
   "execution_count": 20,
   "id": "64439f29",
   "metadata": {},
   "outputs": [],
   "source": [
    "from collections import defaultdict"
   ]
  },
  {
   "cell_type": "code",
   "execution_count": 22,
   "id": "9dc6d9eb",
   "metadata": {},
   "outputs": [],
   "source": [
    "d = defaultdict(int)\n",
    "\n",
    "L = [1,2,4,2,4,2,4,2,5,6,3,5,7]\n",
    "\n",
    "# Iterate through the list\n",
    "# for keeping the count\n",
    "\n",
    "for i in L : \n",
    "    # The default value is 0 . so there is no need to enter the key first\n",
    "    d[i] += 1\n",
    "    "
   ]
  },
  {
   "cell_type": "code",
   "execution_count": 23,
   "id": "77216714",
   "metadata": {},
   "outputs": [
    {
     "name": "stdout",
     "output_type": "stream",
     "text": [
      "defaultdict(<class 'int'>, {1: 1, 2: 4, 4: 3, 5: 2, 6: 1, 3: 1, 7: 1})\n"
     ]
    }
   ],
   "source": [
    "print(d)"
   ]
  },
  {
   "cell_type": "code",
   "execution_count": 24,
   "id": "c827cb2d",
   "metadata": {},
   "outputs": [],
   "source": [
    "d1 = defaultdict(list)"
   ]
  },
  {
   "cell_type": "code",
   "execution_count": 27,
   "id": "e89c08ba",
   "metadata": {},
   "outputs": [],
   "source": [
    "for i in range(5):\n",
    "    d1[i].append(i+1)\n"
   ]
  },
  {
   "cell_type": "code",
   "execution_count": 28,
   "id": "871f5960",
   "metadata": {},
   "outputs": [
    {
     "data": {
      "text/plain": [
       "defaultdict(list, {0: [1], 1: [2], 2: [3], 3: [4], 4: [5]})"
      ]
     },
     "execution_count": 28,
     "metadata": {},
     "output_type": "execute_result"
    }
   ],
   "source": [
    "d1"
   ]
  },
  {
   "cell_type": "markdown",
   "id": "daa779c4",
   "metadata": {},
   "source": [
    "### CHAINMAP \n",
    "\n",
    "\n",
    "A ChainMap encapsulates many dictionaries into a single unit and returns a list of dictionaries.\n",
    "\n",
    "class collections.ChainMap(dict1, dict2)"
   ]
  },
  {
   "cell_type": "code",
   "execution_count": null,
   "id": "f07823a5",
   "metadata": {},
   "outputs": [],
   "source": [
    "class collections.ChainMap(dict1, dict2)"
   ]
  }
 ],
 "metadata": {
  "kernelspec": {
   "display_name": "Python 3",
   "language": "python",
   "name": "python3"
  },
  "language_info": {
   "codemirror_mode": {
    "name": "ipython",
    "version": 3
   },
   "file_extension": ".py",
   "mimetype": "text/x-python",
   "name": "python",
   "nbconvert_exporter": "python",
   "pygments_lexer": "ipython3",
   "version": "3.7.1"
  }
 },
 "nbformat": 4,
 "nbformat_minor": 5
}
