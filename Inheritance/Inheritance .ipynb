{
 "cells": [
  {
   "cell_type": "markdown",
   "metadata": {},
   "source": [
    "Inheritance is a way of creating a new class for using details of an existing class without modifying it.\n",
    "\n",
    "* The newly formed class is a derived class (or child class).\n",
    "* Similarly, the existing class is a base class (or parent class)."
   ]
  },
  {
   "cell_type": "markdown",
   "metadata": {},
   "source": [
    "EMPLOYEE_HR_SALARY: EMPLOYEE.py"
   ]
  },
  {
   "cell_type": "code",
   "execution_count": 10,
   "metadata": {},
   "outputs": [],
   "source": [
    "# Parent class : Employee \n",
    "\n",
    "class Employee:\n",
    "    def __init__(self,id,name):\n",
    "        self.id = id \n",
    "        self.name = name\n",
    "        \n",
    "# child class1 : SalaryEmployee \n",
    "\n",
    "class SalaryEmployee(Employee):\n",
    "    def __init__(self,id,name,weekly_salary):\n",
    "        super().__init__(id,name)\n",
    "        self.weekly_salary = weekly_salary\n",
    "    \n",
    "    def calculate_payroll(self):\n",
    "        return self.weekly_salary\n",
    "    \n",
    "# child class2 : HourlyEmployee\n",
    "\n",
    "class HourlyEmployee(Employee):\n",
    "    def __init__(self,id,name,hours_worked,hour_rate):\n",
    "        super().__init__(id,name)\n",
    "        self.hours_worked = hours_worked\n",
    "        self.hour_rate = hour_rate\n",
    "    def calculate_payroll(self):\n",
    "        return self.hours_worked * self.hour_rate\n",
    "    \n",
    "# child class3 : CommissionEmployee\n",
    "\n",
    "class CommissionEmployee(SalaryEmployee):\n",
    "    def __init__(self,id,name,weekly_salary,commission):\n",
    "        super().__init__(id,name,weekly_salary)\n",
    "        self.commission = commission\n",
    "    def calculate_payroll(self):\n",
    "        fixed = super().calculate_payroll()\n",
    "        return fixed + self.commission\n",
    "\n",
    "# child class4 : Manager \n",
    "\n",
    "class Manager(SalaryEmployee):\n",
    "    def work(self,hours):\n",
    "        print(f'{self.name} screams and yells for {hours} hours')\n",
    "        \n",
    "# child class5 : Secretary\n",
    "\n",
    "class Secreatry(SalaryEmployee):\n",
    "    def work(self,hours):\n",
    "        print(f'{self.name} spends {hours} hours doing office paper work')\n",
    "        \n",
    "# child class6 : Salesperson\n",
    "\n",
    "class SalesPerson(CommissionEmployee):\n",
    "    def work(self,hours):\n",
    "        print(f'{self.name} spends {hours} hours on phhone')\n",
    "\n",
    "# child class7 : FctoryWorker\n",
    "\n",
    "class FactoryWorker(HourlyEmployee):\n",
    "    def work(self,hours):\n",
    "        print(f'{self.name} manufactures gadgets for {hours} hours.')"
   ]
  },
  {
   "cell_type": "markdown",
   "metadata": {},
   "source": [
    "EMPLOYEE_HR_SALARY: HR.py"
   ]
  },
  {
   "cell_type": "code",
   "execution_count": 11,
   "metadata": {},
   "outputs": [],
   "source": [
    "\n",
    "class PayrollSystem:\n",
    "    def calculate_payroll(self,employees):\n",
    "        print('Calculating Payroll')\n",
    "        print('===================')\n",
    "        for employee in employees:\n",
    "            print(f'Payroll for: {employee.id} - {emplpyee.name})' )\n",
    "            print(f'- check amount: {employee.calculate_payroll()}')\n",
    "            print('')\n",
    "            \n"
   ]
  },
  {
   "cell_type": "markdown",
   "metadata": {},
   "source": [
    "PRODUCTIVITY.py"
   ]
  },
  {
   "cell_type": "code",
   "execution_count": 12,
   "metadata": {},
   "outputs": [],
   "source": [
    "class productivitySystem:\n",
    "    def track(self,employees,hours):\n",
    "        print('Tracking Employee Productivity')\n",
    "        print('==============================')\n",
    "        for employee in employees:\n",
    "            employee.work(hours)\n",
    "        print('')"
   ]
  },
  {
   "cell_type": "markdown",
   "metadata": {},
   "source": [
    "Program : "
   ]
  },
  {
   "cell_type": "code",
   "execution_count": 13,
   "metadata": {},
   "outputs": [
    {
     "ename": "NameError",
     "evalue": "name 'employee' is not defined",
     "output_type": "error",
     "traceback": [
      "\u001b[1;31m---------------------------------------------------------------------------\u001b[0m",
      "\u001b[1;31mNameError\u001b[0m                                 Traceback (most recent call last)",
      "\u001b[1;32m<ipython-input-13-f5f6ea7280e8>\u001b[0m in \u001b[0;36m<module>\u001b[1;34m\u001b[0m\n\u001b[0;32m      2\u001b[0m \u001b[1;31m#import PayrollSystem as HR\u001b[0m\u001b[1;33m\u001b[0m\u001b[1;33m\u001b[0m\u001b[1;33m\u001b[0m\u001b[0m\n\u001b[0;32m      3\u001b[0m \u001b[1;33m\u001b[0m\u001b[0m\n\u001b[1;32m----> 4\u001b[1;33m \u001b[0msalary_employee\u001b[0m \u001b[1;33m=\u001b[0m \u001b[0memployee\u001b[0m\u001b[1;33m.\u001b[0m\u001b[0mSalaryEmployee\u001b[0m\u001b[1;33m(\u001b[0m\u001b[1;36m1\u001b[0m\u001b[1;33m,\u001b[0m\u001b[1;34m'John Smith'\u001b[0m\u001b[1;33m,\u001b[0m\u001b[1;36m1500\u001b[0m\u001b[1;33m)\u001b[0m\u001b[1;33m\u001b[0m\u001b[1;33m\u001b[0m\u001b[0m\n\u001b[0m\u001b[0;32m      5\u001b[0m \u001b[0mhourly_employee\u001b[0m \u001b[1;33m=\u001b[0m \u001b[0memployee\u001b[0m\u001b[1;33m.\u001b[0m\u001b[0mHourlyEmployee\u001b[0m\u001b[1;33m(\u001b[0m\u001b[1;36m2\u001b[0m\u001b[1;33m,\u001b[0m\u001b[1;34m'jane Doe'\u001b[0m\u001b[1;33m,\u001b[0m\u001b[1;36m40\u001b[0m\u001b[1;33m,\u001b[0m\u001b[1;36m15\u001b[0m\u001b[1;33m)\u001b[0m\u001b[1;33m\u001b[0m\u001b[1;33m\u001b[0m\u001b[0m\n\u001b[0;32m      6\u001b[0m \u001b[1;33m\u001b[0m\u001b[0m\n",
      "\u001b[1;31mNameError\u001b[0m: name 'employee' is not defined"
     ]
    }
   ],
   "source": [
    "#import Employee as employees\n",
    "#import PayrollSystem as HR\n",
    "\n",
    "salary_employee = employee.SalaryEmployee(1,'John Smith',1500)\n",
    "hourly_employee = employee.HourlyEmployee(2,'jane Doe',40,15)\n",
    "\n",
    "comission_employee = employee.CommissionEmployee(3,'Kevin Bacon',1000,250)\n",
    "\n",
    "payroll_system = HR.payrollsystem()"
   ]
  },
  {
   "cell_type": "code",
   "execution_count": null,
   "metadata": {},
   "outputs": [],
   "source": []
  }
 ],
 "metadata": {
  "kernelspec": {
   "display_name": "Python 3",
   "language": "python",
   "name": "python3"
  },
  "language_info": {
   "codemirror_mode": {
    "name": "ipython",
    "version": 3
   },
   "file_extension": ".py",
   "mimetype": "text/x-python",
   "name": "python",
   "nbconvert_exporter": "python",
   "pygments_lexer": "ipython3",
   "version": "3.7.1"
  }
 },
 "nbformat": 4,
 "nbformat_minor": 2
}
