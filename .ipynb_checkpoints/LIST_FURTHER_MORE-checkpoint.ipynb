{
 "cells": [
  {
   "cell_type": "markdown",
   "metadata": {},
   "source": [
    "### List furthur more "
   ]
  },
  {
   "cell_type": "code",
   "execution_count": 5,
   "metadata": {},
   "outputs": [
    {
     "name": "stdout",
     "output_type": "stream",
     "text": [
      "five\n",
      "['two']\n",
      "['two', 'four']\n"
     ]
    }
   ],
   "source": [
    "# string.split('delimeter') default character is white character - space and tab\n",
    "\n",
    "## List indexing \n",
    "\n",
    "l1 = [\"one\",\"two\",\"three\", \"four\", \"five\"]\n",
    "print(l1[-1])\n",
    "\n",
    "print (l1[1:2])\n",
    "print(l1[1:-1:2]) # start index - 0 position, end index -1 ,step_size = 2(value at second step)"
   ]
  },
  {
   "cell_type": "markdown",
   "metadata": {},
   "source": [
    "### List extend usnig '+'"
   ]
  },
  {
   "cell_type": "code",
   "execution_count": 6,
   "metadata": {},
   "outputs": [
    {
     "name": "stdout",
     "output_type": "stream",
     "text": [
      "[10, 30, 40, 80, 90, 'hari', 'ria', 'eena']\n"
     ]
    }
   ],
   "source": [
    "# it uses extend list in the background not the append.\n",
    "\n",
    "l2 = [10,30,40,80,90]\n",
    "l3 = ['hari',\"ria\",\"eena\"]\n",
    "l4 = l2 +l3 \n",
    "print(l4)"
   ]
  },
  {
   "cell_type": "markdown",
   "metadata": {},
   "source": [
    "### List count() function"
   ]
  },
  {
   "cell_type": "code",
   "execution_count": 15,
   "metadata": {},
   "outputs": [
    {
     "name": "stdout",
     "output_type": "stream",
     "text": [
      "40  : 2\n",
      "10  : 2\n",
      "80  : 2\n",
      "50  : 1\n",
      "20  : 1\n",
      "90  : 2\n",
      "30  : 4\n"
     ]
    }
   ],
   "source": [
    "l2 = [10,30,40,80,90,80,30,40,90,50,10,20,30,30]\n",
    "l2.count(30)\n",
    "for i in set(l2):\n",
    "    print(i ,\" :\",l2.count(i))"
   ]
  },
  {
   "cell_type": "markdown",
   "metadata": {},
   "source": [
    "### List comprehension "
   ]
  },
  {
   "cell_type": "code",
   "execution_count": 20,
   "metadata": {},
   "outputs": [
    {
     "name": "stdout",
     "output_type": "stream",
     "text": [
      "[1, 4, 9, 16, 25, 36, 49, 64, 81]\n"
     ]
    }
   ],
   "source": [
    "## Printing the squares of the numbers in the list \n",
    "## Example 1 :\n",
    "\n",
    "l1 = [1,3,9,7,8,2,3,4,5,6,7]\n",
    "\n",
    "l2 = [ i**2 for i in set(l1)]\n",
    "print(l2)"
   ]
  },
  {
   "cell_type": "code",
   "execution_count": 22,
   "metadata": {},
   "outputs": [
    {
     "data": {
      "text/plain": [
       "[5, 6, 5, 45, 34]"
      ]
     },
     "execution_count": 22,
     "metadata": {},
     "output_type": "execute_result"
    }
   ],
   "source": [
    "## Example 2 :\n",
    "## printing list comprehension with coditions\n",
    "l1 = [4,5,6,3,5,45,34]\n",
    "\n",
    "l3 = [x for x in l1 if x>=5]\n",
    "\n",
    "l3"
   ]
  },
  {
   "cell_type": "code",
   "execution_count": 24,
   "metadata": {},
   "outputs": [
    {
     "name": "stdout",
     "output_type": "stream",
     "text": [
      "[(-10, 100), (-20, 400), (10, 100), (20, 400), (50, 2500)]\n"
     ]
    }
   ],
   "source": [
    "## Example 3 : \n",
    "## we have a ist of tuples  here [(number,square of that number)]\n",
    "l1 = [-10,-20,10,20,50] \n",
    "l2 = [(i,i**2) for i in l1]\n",
    "print(l2)\n"
   ]
  },
  {
   "cell_type": "markdown",
   "metadata": {},
   "source": [
    "### useful for matrix calculation - Nested Lists"
   ]
  },
  {
   "cell_type": "code",
   "execution_count": 26,
   "metadata": {},
   "outputs": [
    {
     "name": "stdout",
     "output_type": "stream",
     "text": [
      "[[1, 4, 7], [2, 5, 8], [3, 6, 9], [10, 11, 12]]\n"
     ]
    }
   ],
   "source": [
    "### Nested list - to calculate Transpose of the matrix\n",
    "\n",
    "\n",
    "matrix = [[1,2,3,10],[4,5,6,11],[7,8,9,12]]\n",
    "\n",
    "##transpose = [[ ]for i in range()] step-1 outer loop is defined in the outer list as list comprehension \n",
    "\n",
    "transpose = [[row[i] for row in matrix]for i in range(4)] \n",
    "# as for transpose each column will be row for new matrix. 4 cols here \n",
    "# we define inner loop for rows of matrix, 3 rows here \n",
    "# as we want each column element value as new row list element we use row[i] -as element value\n",
    "\n",
    "print(transpose)\n"
   ]
  },
  {
   "cell_type": "code",
   "execution_count": null,
   "metadata": {},
   "outputs": [],
   "source": [
    "## Traditional approach for creating Transpose would be as follows : \n",
    "\n",
    "\n",
    "\n",
    "\n"
   ]
  },
  {
   "cell_type": "markdown",
   "metadata": {},
   "source": [
    "### Another example for nested list on hacker rank :\n",
    "#### <font color= red > To find the second minimum score in input list <font/>\n",
    "\n",
    "INPUT : \n",
    "5\n",
    "Harry\n",
    "37.21\n",
    "Berry\n",
    "37.21\n",
    "Tina\n",
    "37.2\n",
    "Akriti\n",
    "41\n",
    "Harsh\n",
    "39\n",
    "\n",
    "#### list to create \n",
    " python students = [['Harry', 37.21], ['Berry', 37.21], ['Tina', 37.2], ['Akriti', 41], ['Harsh', 39]]\n",
    "\n",
    " **marksheet = []**<br>\n",
    "**for _ in range( 0,int(input()) ):**<br>\n",
    "> **marksheet.append( [ input(), float(input()) ] )** <br>\n",
    "<br>\n",
    "\n",
    "**second_highest = sorted(list(set([marks for name, marks in marksheet])))[1]** <br>\n",
    "**print('\\n'.join([a for a,b in sorted(marksheet) if b == second_highest]))**<br>"
   ]
  },
  {
   "cell_type": "code",
   "execution_count": null,
   "metadata": {},
   "outputs": [],
   "source": []
  }
 ],
 "metadata": {
  "kernelspec": {
   "display_name": "Python 3",
   "language": "python",
   "name": "python3"
  },
  "language_info": {
   "codemirror_mode": {
    "name": "ipython",
    "version": 3
   },
   "file_extension": ".py",
   "mimetype": "text/x-python",
   "name": "python",
   "nbconvert_exporter": "python",
   "pygments_lexer": "ipython3",
   "version": "3.7.1"
  }
 },
 "nbformat": 4,
 "nbformat_minor": 2
}
