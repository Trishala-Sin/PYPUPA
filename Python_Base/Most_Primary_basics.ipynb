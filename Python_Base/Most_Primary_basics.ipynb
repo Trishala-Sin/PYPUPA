{
 "cells": [
  {
   "cell_type": "markdown",
   "metadata": {},
   "source": [
    "##  <font color = blue> Strings </font>\n",
    "\n",
    "The slicing starts with the start_pos index (included) and ends at end_pos index (excluded). The step parameter is used to specify the steps to take from start to end index.\n",
    "\n",
    "* Python String slicing always follows this rule: s[:i] + s[i:] == s for any index ‘i’."
   ]
  },
  {
   "cell_type": "code",
   "execution_count": 1,
   "metadata": {},
   "outputs": [],
   "source": [
    "Word = 'Tobbaco'\n",
    "#index = '0123456'"
   ]
  },
  {
   "cell_type": "code",
   "execution_count": 2,
   "metadata": {},
   "outputs": [
    {
     "name": "stdout",
     "output_type": "stream",
     "text": [
      "Tobbaco\n"
     ]
    }
   ],
   "source": [
    "print(Word)"
   ]
  },
  {
   "cell_type": "code",
   "execution_count": 4,
   "metadata": {},
   "outputs": [
    {
     "name": "stdout",
     "output_type": "stream",
     "text": [
      "Tobbaco\n"
     ]
    }
   ],
   "source": [
    "print(Word[:]) # : prints all of the word "
   ]
  },
  {
   "cell_type": "code",
   "execution_count": 5,
   "metadata": {},
   "outputs": [
    {
     "name": "stdout",
     "output_type": "stream",
     "text": [
      "obbac\n"
     ]
    }
   ],
   "source": [
    "print(Word[1:6]) # prints the given range (start:stop) where stop is not included while start is included"
   ]
  },
  {
   "cell_type": "code",
   "execution_count": 6,
   "metadata": {},
   "outputs": [
    {
     "name": "stdout",
     "output_type": "stream",
     "text": [
      "o\n"
     ]
    }
   ],
   "source": [
    "print(Word[-1]) # prints the last character in the string"
   ]
  },
  {
   "cell_type": "code",
   "execution_count": 7,
   "metadata": {},
   "outputs": [
    {
     "name": "stdout",
     "output_type": "stream",
     "text": [
      "Tobbac\n"
     ]
    }
   ],
   "source": [
    "print(Word[:-1]) # last point is not included "
   ]
  },
  {
   "cell_type": "code",
   "execution_count": 8,
   "metadata": {},
   "outputs": [
    {
     "name": "stdout",
     "output_type": "stream",
     "text": [
      "o\n"
     ]
    }
   ],
   "source": [
    "print(Word[-1:]) # Reads left to right not right to left"
   ]
  },
  {
   "cell_type": "code",
   "execution_count": 9,
   "metadata": {},
   "outputs": [
    {
     "name": "stdout",
     "output_type": "stream",
     "text": [
      "I hate you\n",
      "I love you\n"
     ]
    }
   ],
   "source": [
    "## Concatenation \n",
    "\n",
    "str1 = 'I hate'\n",
    "str2 = 'I love'\n",
    "str3 = 'you'\n",
    "\n",
    "print(str1+' '+ str3)\n",
    "print(str2+' '+ str3)"
   ]
  },
  {
   "cell_type": "code",
   "execution_count": 10,
   "metadata": {},
   "outputs": [
    {
     "name": "stdout",
     "output_type": "stream",
     "text": [
      "My age is 15\n"
     ]
    }
   ],
   "source": [
    "# print('My Age is '+ 15 )\n",
    "# Above code will give error \n",
    "\n",
    "print('My age is ' + str(15))\n"
   ]
  },
  {
   "cell_type": "code",
   "execution_count": 11,
   "metadata": {},
   "outputs": [
    {
     "name": "stdout",
     "output_type": "stream",
     "text": [
      "Before Update :toek\n",
      "After Update :took\n"
     ]
    }
   ],
   "source": [
    "str1 = 'toek'\n",
    "str2 = 'ok'\n",
    "print('Before Update :'+str1)\n",
    "print('After Update :'+ str1[:2] + str2)"
   ]
  },
  {
   "cell_type": "markdown",
   "metadata": {},
   "source": [
    "#### strings are immutable hence these cant be directly updated hence to make changes in the string you can use methods as :\n",
    "* slicing\n",
    "* concatenating \n"
   ]
  },
  {
   "cell_type": "markdown",
   "metadata": {},
   "source": [
    "##### Maniputing strings may ouccur with these basic functions:\n",
    "\n",
    "##### String functions : \n",
    "\n",
    "* lower(): returns the lowercase version of the string\n",
    "* upper(): returns the uppercase version of the string\n",
    "* strip(): returns a string with whitespace removed from the start and end\n",
    "* isalnum(): return true if all characters in the string are alphanumeric and there is at least one character,false otherwise.\n",
    "* isalpha(): return true if all characters in the string are alphabetic and there is at least one character, false otherwise.\n",
    "* title(): return a title-cased version of the string where words start with an uppercase character and the remaining characters are lowercase\n",
    "* join(list): joins the elements in the given list together using the string as the delimiter\n",
    "* find(substring): returns the lowest index in the string where substring is found. If substring is not found, it returns -1\n",
    "\n",
    "\n",
    "#####  Built - In functions that apply on Strings : \n",
    "\n",
    "* len()\tString length can be determined by using built-in len() function.\n",
    "* ascii()\tPython ascii() function returns the string representation of the object. \n",
    "        This function internally calls repr() function and before returning the representation string, escapes the non-ASCII * * characters using \\x, \\u or \\U escapes.\n",
    "* bool()\tPython bool() function returns Boolean value for an object. The bool class has only two instances – True and False.\n",
    "* bytearray()\tPython bytearray() function returns a bytearray object that contains the array of bytes from the input source.\n",
    "* bytes()\tThis function returns bytes object that is an immutable sequence of integers in the range 0 <= x < 256.\n",
    "* ord()\tPython ord() function takes string argument of a single Unicode character and return its integer Unicode code point value.\n",
    "* enumerate()\tPython enumerate function takes a sequence, and then make each element of the sequence into a tuple.\n",
    "* float()\tfloat() function returns a floating point number from the input argument.\n",
    "* hash()\tThis function returns the hash value of the given object.\n",
    "* id()\tPython id() function returns the “identity” of the object.\n",
    "\t\tThe identity of an object is an integer, which is guaranteed to be unique and constant for this object during its lifetime.\n",
    "* int()\tPython int() function returns an integer object from the specified input. The returned int object will always be in base 10.\n",
    "* map()\tPython map() function is used to apply a function on all the elements of specified iterable and return map object.\n",
    "* print()\tPython print() function is used to print data into console.\n",
    "* slice()\tPython slice() function returns a slice object representing the set of indices specified by range(start, stop, step).\n",
    "* type()\tThis function returns the type of the object."
   ]
  },
  {
   "cell_type": "markdown",
   "metadata": {},
   "source": [
    "### f-strings\n",
    "\n",
    "Python f-strings is introduced to have minimal syntax for string formatting. The expressions are evaluated at runtime. If you are using Python 3.6 or higher version, you should use f-strings for all your string formatting requirements."
   ]
  },
  {
   "cell_type": "code",
   "execution_count": 4,
   "metadata": {},
   "outputs": [
    {
     "data": {
      "text/plain": [
       "'My name is Pankaj and I am 40 yrs old'"
      ]
     },
     "execution_count": 4,
     "metadata": {},
     "output_type": "execute_result"
    }
   ],
   "source": [
    "name = 'Pankaj'\n",
    "age = 40\n",
    "\n",
    "def intro(name,age):\n",
    "    return f'My name is {name} and I am {age} yrs old'\n",
    "\n",
    "intro(name,age)"
   ]
  },
  {
   "cell_type": "code",
   "execution_count": 7,
   "metadata": {},
   "outputs": [
    {
     "name": "stdout",
     "output_type": "stream",
     "text": [
      "My name is David and I am 15 yrs old\n"
     ]
    }
   ],
   "source": [
    "name = 'David'\n",
    "age = 15\n",
    "S= intro(name,age)\n",
    "print(S)"
   ]
  },
  {
   "cell_type": "code",
   "execution_count": 10,
   "metadata": {},
   "outputs": [
    {
     "name": "stdout",
     "output_type": "stream",
     "text": [
      "Ater 5 years age of 'David' will be 20\n",
      "Current datetime format is : 2021-02-17 13:19:33.712304\n",
      "formatted current datetime is : 02/17/2021\n"
     ]
    }
   ],
   "source": [
    "# f-strings with expressions and conversions # expression will stay in {expression}\n",
    "\n",
    "from datetime import datetime\n",
    "name = 'David'\n",
    "age = 15\n",
    "d = datetime.now()\n",
    "\n",
    "print(f'Ater 5 years age of {name!r} will be {age+5}') # Note every calculated expression is within {<expression>) only\n",
    "print(f'Current datetime format is : {d}')\n",
    "print(f'formatted current datetime is : {d:%m/%d/%Y}')"
   ]
  },
  {
   "cell_type": "code",
   "execution_count": 13,
   "metadata": {},
   "outputs": [
    {
     "name": "stdout",
     "output_type": "stream",
     "text": [
      "Current datetime format is :\n",
      " 2021-02-17 13:19:33.712304\n",
      "formatted current datetime is :\\n 02/17/2021\n"
     ]
    }
   ],
   "source": [
    "# F-strings works with raw strings\n",
    "print(f'Current datetime format is :\\n {d}')\n",
    "print(fr'formatted current datetime is :\\n {d:%m/%d/%Y}')"
   ]
  },
  {
   "cell_type": "code",
   "execution_count": 14,
   "metadata": {},
   "outputs": [
    {
     "name": "stdout",
     "output_type": "stream",
     "text": [
      "E[identity : 10, name :Pankaj]\n"
     ]
    }
   ],
   "source": [
    "# F-strings for objects and attributes\n",
    "\n",
    "class Employees:\n",
    "    id = 0 \n",
    "    name = ''\n",
    "    def __init__(self,id,name):\n",
    "        self.id = id\n",
    "        self.name = name\n",
    "    \n",
    "    def __str__(self):\n",
    "        return f'E[identity : {self.id}, name :{self.name}]'\n",
    "\n",
    "emp = Employees(10, 'Pankaj')\n",
    "print(emp)\n",
    "        "
   ]
  },
  {
   "cell_type": "code",
   "execution_count": 12,
   "metadata": {},
   "outputs": [
    {
     "name": "stdout",
     "output_type": "stream",
     "text": [
      "Sum(10,20) = 30\n"
     ]
    }
   ],
   "source": [
    "# F-strings used to call functions\n",
    "\n",
    "def add(x,y):\n",
    "    return x+y\n",
    "\n",
    "print(f'Sum(10,20) = {add(10, 20)}')"
   ]
  },
  {
   "cell_type": "code",
   "execution_count": 13,
   "metadata": {},
   "outputs": [
    {
     "name": "stdout",
     "output_type": "stream",
     "text": [
      "Lambda Example :20.5\n",
      "Lambda Example :420.25\n"
     ]
    }
   ],
   "source": [
    "# F-strings with Lambda expressions:\n",
    "\n",
    "x = -20.5\n",
    "print(f'Lambda Example :{(lambda x: abs(x)) (x)}')\n",
    "print(f'Lambda Example :{(lambda x:pow(x,2))(x)}' )"
   ]
  },
  {
   "cell_type": "markdown",
   "metadata": {},
   "source": [
    "#### Learning about the Lambda (anonymous function): \n",
    "basic syntax : \n",
    "\n",
    "lambda arguments: expression\n",
    "\n",
    "* Python lambda function is helpful for map or filtering of any list."
   ]
  },
  {
   "cell_type": "code",
   "execution_count": 14,
   "metadata": {},
   "outputs": [
    {
     "name": "stdout",
     "output_type": "stream",
     "text": [
      "25 598123441751746927043169025\n"
     ]
    }
   ],
   "source": [
    "# for creating small function as finding square of number \n",
    "\n",
    "f = lambda x : x*x \n",
    "a = f(5)\n",
    "b = f(24456562345345)\n",
    "print(a , b)"
   ]
  },
  {
   "cell_type": "code",
   "execution_count": 15,
   "metadata": {},
   "outputs": [
    {
     "name": "stdout",
     "output_type": "stream",
     "text": [
      "14\n"
     ]
    }
   ],
   "source": [
    "# for quick application \n",
    "\n",
    "x= lambda x,y : x if x>y else y \n",
    "\n",
    "A = x(14,5)\n",
    "print(A)"
   ]
  },
  {
   "cell_type": "code",
   "execution_count": 16,
   "metadata": {},
   "outputs": [
    {
     "name": "stdout",
     "output_type": "stream",
     "text": [
      "sun\n",
      "mon\n",
      "wed\n",
      "fri\n"
     ]
    }
   ],
   "source": [
    "''' I want to filter from a list whether the values in the list are having length of 3.\n",
    "     Notice that filter() is a function that takes two arguments. \n",
    "     One is a function \n",
    "     and the second one is a list of values. \n",
    "     The following is the code for it'''\n",
    "\n",
    "L1 = ['sun', 'mon', 'tues', 'wed', 'thurs', 'fri']\n",
    "days = filter(lambda x:x if len(x)<=3 else '',L1)\n",
    "for d in days:\n",
    "    print(d)"
   ]
  },
  {
   "cell_type": "code",
   "execution_count": 36,
   "metadata": {},
   "outputs": [
    {
     "name": "stdout",
     "output_type": "stream",
     "text": [
      "4\n",
      "0\n",
      "4\n",
      "3\n",
      "1\n",
      "1\n",
      "4\n"
     ]
    }
   ],
   "source": [
    "# list of numbers divisible by 5 and a list of remainders\n",
    "\n",
    "numbers = [ 74, 85, 14, 23, 56, 31,44 ]\n",
    "\n",
    "fix = map(lambda num : num%5,numbers)\n",
    "\n",
    "for remainders in fix:\n",
    "    print(remainders)"
   ]
  },
  {
   "cell_type": "markdown",
   "metadata": {},
   "source": [
    "####  REMOVING CHARACTER FROM A STRING : \n",
    "* Using string replace() function\n",
    "* Using string translate() function\n",
    "\n",
    "Python string translate() function replace each character in the string using the given translation table. We have to specify the Unicode code point for the character and ‘None’ as a replacement to remove it from the result string. We can use ord() function to get the Unicode code point of a character."
   ]
  },
  {
   "cell_type": "code",
   "execution_count": 18,
   "metadata": {},
   "outputs": [
    {
     "name": "stdout",
     "output_type": "stream",
     "text": [
      "sbgesdjbdhb3487487\n"
     ]
    }
   ],
   "source": [
    "s = 'asbgeaaasaadjbdhb3487487'\n",
    "# replaced by blank\n",
    "print(s.replace('a',''))"
   ]
  },
  {
   "cell_type": "code",
   "execution_count": 19,
   "metadata": {},
   "outputs": [
    {
     "name": "stdout",
     "output_type": "stream",
     "text": [
      "8sbge888s88djbdhb3487487\n"
     ]
    }
   ],
   "source": [
    "print(s.replace('a','8'))\n",
    "# replaced by any character"
   ]
  },
  {
   "cell_type": "code",
   "execution_count": 20,
   "metadata": {},
   "outputs": [
    {
     "name": "stdout",
     "output_type": "stream",
     "text": [
      "bc12321cb\n"
     ]
    }
   ],
   "source": [
    "s = 'abc12321cba'\n",
    "\n",
    "print(s.translate({ord('a'): None}))"
   ]
  },
  {
   "cell_type": "code",
   "execution_count": 21,
   "metadata": {},
   "outputs": [
    {
     "name": "stdout",
     "output_type": "stream",
     "text": [
      "2387847\n"
     ]
    }
   ],
   "source": [
    "# for multiple characters : \n",
    "# unicode is the ascii value of that character and we can play according to the problem with unicodes\n",
    "\n",
    "s = 'aaswewaswew2387847'\n",
    "\n",
    "print(s.translate({ord(i):None for i in 'awse'}))"
   ]
  },
  {
   "cell_type": "code",
   "execution_count": 22,
   "metadata": {},
   "outputs": [
    {
     "name": "stdout",
     "output_type": "stream",
     "text": [
      "A unicode is 65 ,a unicode is 97\n"
     ]
    }
   ],
   "source": [
    "print('A unicode is', ord('A'), ',a unicode is', ord('a'))"
   ]
  },
  {
   "cell_type": "code",
   "execution_count": 23,
   "metadata": {},
   "outputs": [
    {
     "name": "stdout",
     "output_type": "stream",
     "text": [
      "Using replace function : 12345\n",
      "Using translate function : 12345\n"
     ]
    }
   ],
   "source": [
    "s = '1 2 3 4 5'\n",
    "j = s.replace(' ','')\n",
    "r = s.translate({ord(i): None for i in ' '})\n",
    "\n",
    "print('Using replace function :',j)\n",
    "print('Using translate function :',r)"
   ]
  },
  {
   "cell_type": "code",
   "execution_count": 2,
   "metadata": {},
   "outputs": [
    {
     "name": "stdout",
     "output_type": "stream",
     "text": [
      "4\n",
      "insert 5 6\n",
      "print \n",
      "[6]\n",
      "insert 2 4\n",
      "insert 3 5\n"
     ]
    }
   ],
   "source": [
    "N = int(input()) \n",
    "list1=[] \n",
    "for i in range(N):\n",
    "    cmd=input().split() \n",
    "    command=cmd[0] \n",
    "    if len(cmd)>1: \n",
    "        index=int(cmd[1]) \n",
    "    if len(cmd)>2: \n",
    "        number=int(cmd[2]) \n",
    "    if command=='insert': \n",
    "        list1.insert(index,number) \n",
    "    if command=='append': \n",
    "        list1.append(index) \n",
    "    elif command=='remove': \n",
    "        list1.remove(index) \n",
    "    if command=='print': \n",
    "        print(list1) \n",
    "    elif command=='pop':\n",
    "        list1.pop() \n",
    "    elif command=='reverse': \n",
    "        list1.reverse() \n",
    "    elif command=='sort':\n",
    "        list1.sort()"
   ]
  },
  {
   "cell_type": "code",
   "execution_count": 6,
   "metadata": {},
   "outputs": [
    {
     "name": "stdout",
     "output_type": "stream",
     "text": [
      "4\n"
     ]
    },
    {
     "ename": "TypeError",
     "evalue": "'str' object cannot be interpreted as an integer",
     "output_type": "error",
     "traceback": [
      "\u001b[1;31m---------------------------------------------------------------------------\u001b[0m",
      "\u001b[1;31mTypeError\u001b[0m                                 Traceback (most recent call last)",
      "\u001b[1;32m<ipython-input-6-b0378d789d82>\u001b[0m in \u001b[0;36m<module>\u001b[1;34m\u001b[0m\n\u001b[0;32m      1\u001b[0m \u001b[0mn\u001b[0m \u001b[1;33m=\u001b[0m \u001b[0minput\u001b[0m\u001b[1;33m(\u001b[0m\u001b[1;33m)\u001b[0m\u001b[1;33m\u001b[0m\u001b[1;33m\u001b[0m\u001b[0m\n\u001b[0;32m      2\u001b[0m \u001b[0ml\u001b[0m \u001b[1;33m=\u001b[0m \u001b[1;33m[\u001b[0m\u001b[1;33m]\u001b[0m\u001b[1;33m\u001b[0m\u001b[1;33m\u001b[0m\u001b[0m\n\u001b[1;32m----> 3\u001b[1;33m \u001b[1;32mfor\u001b[0m \u001b[0m_\u001b[0m \u001b[1;32min\u001b[0m \u001b[0mrange\u001b[0m\u001b[1;33m(\u001b[0m\u001b[0mn\u001b[0m\u001b[1;33m)\u001b[0m\u001b[1;33m:\u001b[0m\u001b[1;33m\u001b[0m\u001b[1;33m\u001b[0m\u001b[0m\n\u001b[0m\u001b[0;32m      4\u001b[0m     \u001b[0ms\u001b[0m \u001b[1;33m=\u001b[0m \u001b[0minput\u001b[0m\u001b[1;33m(\u001b[0m\u001b[1;33m)\u001b[0m\u001b[1;33m.\u001b[0m\u001b[0msplit\u001b[0m\u001b[1;33m(\u001b[0m\u001b[1;33m)\u001b[0m\u001b[1;33m\u001b[0m\u001b[1;33m\u001b[0m\u001b[0m\n\u001b[0;32m      5\u001b[0m     \u001b[0mcmd\u001b[0m \u001b[1;33m=\u001b[0m \u001b[0ms\u001b[0m\u001b[1;33m[\u001b[0m\u001b[1;36m0\u001b[0m\u001b[1;33m]\u001b[0m\u001b[1;33m\u001b[0m\u001b[1;33m\u001b[0m\u001b[0m\n",
      "\u001b[1;31mTypeError\u001b[0m: 'str' object cannot be interpreted as an integer"
     ]
    }
   ],
   "source": [
    "n = input()\n",
    "l = []\n",
    "for _ in range(n):\n",
    "    s = input().split()\n",
    "    cmd = s[0]\n",
    "    args = s[1:]\n",
    "    if cmd !=\"print\":\n",
    "        cmd += \"(\"+ \",\".join(args) +\")\"\n",
    "        eval(\"l.\"+cmd)\n",
    "    else:\n",
    "        print(l)"
   ]
  },
  {
   "cell_type": "code",
   "execution_count": null,
   "metadata": {},
   "outputs": [],
   "source": []
  }
 ],
 "metadata": {
  "kernelspec": {
   "display_name": "Python 3",
   "language": "python",
   "name": "python3"
  },
  "language_info": {
   "codemirror_mode": {
    "name": "ipython",
    "version": 3
   },
   "file_extension": ".py",
   "mimetype": "text/x-python",
   "name": "python",
   "nbconvert_exporter": "python",
   "pygments_lexer": "ipython3",
   "version": "3.7.1"
  }
 },
 "nbformat": 4,
 "nbformat_minor": 2
}
