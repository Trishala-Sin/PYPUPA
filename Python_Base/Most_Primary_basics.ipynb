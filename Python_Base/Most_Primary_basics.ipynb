{
 "cells": [
  {
   "cell_type": "markdown",
   "metadata": {},
   "source": [
    "#### Strings "
   ]
  },
  {
   "cell_type": "code",
   "execution_count": 1,
   "metadata": {},
   "outputs": [],
   "source": [
    "Word = 'Tobbaco'\n",
    "#index = '0123456'"
   ]
  },
  {
   "cell_type": "code",
   "execution_count": 2,
   "metadata": {},
   "outputs": [
    {
     "name": "stdout",
     "output_type": "stream",
     "text": [
      "Tobbaco\n"
     ]
    }
   ],
   "source": [
    "print(Word)"
   ]
  },
  {
   "cell_type": "code",
   "execution_count": 3,
   "metadata": {},
   "outputs": [
    {
     "name": "stdout",
     "output_type": "stream",
     "text": [
      "Tobbaco\n"
     ]
    }
   ],
   "source": [
    "print(Word[:]) : prints all of the word "
   ]
  },
  {
   "cell_type": "code",
   "execution_count": 5,
   "metadata": {},
   "outputs": [
    {
     "name": "stdout",
     "output_type": "stream",
     "text": [
      "obbac\n"
     ]
    }
   ],
   "source": [
    "print(Word[1:6]) # prints the given range (start:stop) where stop is not included while start is included"
   ]
  },
  {
   "cell_type": "code",
   "execution_count": 6,
   "metadata": {},
   "outputs": [
    {
     "name": "stdout",
     "output_type": "stream",
     "text": [
      "o\n"
     ]
    }
   ],
   "source": [
    "print(Word[-1]) # prints the last character in the string"
   ]
  },
  {
   "cell_type": "code",
   "execution_count": 7,
   "metadata": {},
   "outputs": [
    {
     "name": "stdout",
     "output_type": "stream",
     "text": [
      "Tobbac\n"
     ]
    }
   ],
   "source": [
    "print(Word[:-1]) # last point is not included "
   ]
  },
  {
   "cell_type": "code",
   "execution_count": 8,
   "metadata": {},
   "outputs": [
    {
     "name": "stdout",
     "output_type": "stream",
     "text": [
      "o\n"
     ]
    }
   ],
   "source": [
    "print(Word[-1:]) # Reads left to right not right to left"
   ]
  },
  {
   "cell_type": "code",
   "execution_count": 9,
   "metadata": {},
   "outputs": [
    {
     "name": "stdout",
     "output_type": "stream",
     "text": [
      "I hate you\n",
      "I love you\n"
     ]
    }
   ],
   "source": [
    "## Concatenation \n",
    "\n",
    "str1 = 'I hate'\n",
    "str2 = 'I love'\n",
    "str3 = 'you'\n",
    "\n",
    "print(str1+' '+ str3)\n",
    "print(str2+' '+ str3)"
   ]
  },
  {
   "cell_type": "code",
   "execution_count": 11,
   "metadata": {},
   "outputs": [
    {
     "name": "stdout",
     "output_type": "stream",
     "text": [
      "My age is 15\n"
     ]
    }
   ],
   "source": [
    "# print('My Age is '+ 15 )\n",
    "# Above code will give error \n",
    "\n",
    "print('My age is ' + str(15))\n"
   ]
  },
  {
   "cell_type": "code",
   "execution_count": 12,
   "metadata": {},
   "outputs": [
    {
     "name": "stdout",
     "output_type": "stream",
     "text": [
      "Before Update :toek\n",
      "After Update :took\n"
     ]
    }
   ],
   "source": [
    "str1 = 'toek'\n",
    "str2 = 'ok'\n",
    "print('Before Update :'+str1)\n",
    "print('After Update :'+ str1[:2] + str2)"
   ]
  },
  {
   "cell_type": "markdown",
   "metadata": {},
   "source": [
    "#### strings are immutable hence these cant be directly updated hence to make changes in the string you can use methods as :\n",
    "* slicing\n",
    "* concatenating \n"
   ]
  },
  {
   "cell_type": "markdown",
   "metadata": {},
   "source": [
    "Maniputing strings may ouccur with these basic functions:\n"
   ]
  }
 ],
 "metadata": {
  "kernelspec": {
   "display_name": "Python 3",
   "language": "python",
   "name": "python3"
  },
  "language_info": {
   "codemirror_mode": {
    "name": "ipython",
    "version": 3
   },
   "file_extension": ".py",
   "mimetype": "text/x-python",
   "name": "python",
   "nbconvert_exporter": "python",
   "pygments_lexer": "ipython3",
   "version": "3.7.1"
  }
 },
 "nbformat": 4,
 "nbformat_minor": 2
}
