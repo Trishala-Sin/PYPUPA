{
 "cells": [
  {
   "cell_type": "markdown",
   "metadata": {},
   "source": [
    "#### Strings "
   ]
  },
  {
   "cell_type": "code",
   "execution_count": 1,
   "metadata": {},
   "outputs": [],
   "source": [
    "Word = 'Tobbaco'\n",
    "#index = '0123456'"
   ]
  },
  {
   "cell_type": "code",
   "execution_count": 2,
   "metadata": {},
   "outputs": [
    {
     "name": "stdout",
     "output_type": "stream",
     "text": [
      "Tobbaco\n"
     ]
    }
   ],
   "source": [
    "print(Word)"
   ]
  },
  {
   "cell_type": "code",
   "execution_count": 3,
   "metadata": {},
   "outputs": [
    {
     "name": "stdout",
     "output_type": "stream",
     "text": [
      "Tobbaco\n"
     ]
    }
   ],
   "source": [
    "print(Word[:]) : prints all of the word "
   ]
  },
  {
   "cell_type": "code",
   "execution_count": 5,
   "metadata": {},
   "outputs": [
    {
     "name": "stdout",
     "output_type": "stream",
     "text": [
      "obbac\n"
     ]
    }
   ],
   "source": [
    "print(Word[1:6]) # prints the given range (start:stop) where stop is not included while start is included"
   ]
  },
  {
   "cell_type": "code",
   "execution_count": 6,
   "metadata": {},
   "outputs": [
    {
     "name": "stdout",
     "output_type": "stream",
     "text": [
      "o\n"
     ]
    }
   ],
   "source": [
    "print(Word[-1]) # prints the last character in the string"
   ]
  },
  {
   "cell_type": "code",
   "execution_count": 7,
   "metadata": {},
   "outputs": [
    {
     "name": "stdout",
     "output_type": "stream",
     "text": [
      "Tobbac\n"
     ]
    }
   ],
   "source": [
    "print(Word[:-1]) # last point is not included "
   ]
  },
  {
   "cell_type": "code",
   "execution_count": 8,
   "metadata": {},
   "outputs": [
    {
     "name": "stdout",
     "output_type": "stream",
     "text": [
      "o\n"
     ]
    }
   ],
   "source": [
    "print(Word[-1:]) # Reads left to right not right to left"
   ]
  },
  {
   "cell_type": "code",
   "execution_count": 9,
   "metadata": {},
   "outputs": [
    {
     "name": "stdout",
     "output_type": "stream",
     "text": [
      "I hate you\n",
      "I love you\n"
     ]
    }
   ],
   "source": [
    "## Concatenation \n",
    "\n",
    "str1 = 'I hate'\n",
    "str2 = 'I love'\n",
    "str3 = 'you'\n",
    "\n",
    "print(str1+' '+ str3)\n",
    "print(str2+' '+ str3)"
   ]
  },
  {
   "cell_type": "code",
   "execution_count": 11,
   "metadata": {},
   "outputs": [
    {
     "name": "stdout",
     "output_type": "stream",
     "text": [
      "My age is 15\n"
     ]
    }
   ],
   "source": [
    "# print('My Age is '+ 15 )\n",
    "# Above code will give error \n",
    "\n",
    "print('My age is ' + str(15))\n"
   ]
  },
  {
   "cell_type": "code",
   "execution_count": 12,
   "metadata": {},
   "outputs": [
    {
     "name": "stdout",
     "output_type": "stream",
     "text": [
      "Before Update :toek\n",
      "After Update :took\n"
     ]
    }
   ],
   "source": [
    "str1 = 'toek'\n",
    "str2 = 'ok'\n",
    "print('Before Update :'+str1)\n",
    "print('After Update :'+ str1[:2] + str2)"
   ]
  },
  {
   "cell_type": "markdown",
   "metadata": {},
   "source": [
    "#### strings are immutable hence these cant be directly updated hence to make changes in the string you can use methods as :\n",
    "* slicing\n",
    "* concatenating \n"
   ]
  },
  {
   "cell_type": "markdown",
   "metadata": {},
   "source": [
    "##### Maniputing strings may ouccur with these basic functions:\n",
    "\n",
    "##### String functions : \n",
    "\n",
    "* lower(): returns the lowercase version of the string\n",
    "* upper(): returns the uppercase version of the string\n",
    "* strip(): returns a string with whitespace removed from the start and end\n",
    "* isalnum(): return true if all characters in the string are alphanumeric and there is at least one character,false otherwise.\n",
    "* isalpha(): return true if all characters in the string are alphabetic and there is at least one character, false otherwise.\n",
    "* title(): return a title-cased version of the string where words start with an uppercase character and the remaining characters are lowercase\n",
    "* join(list): joins the elements in the given list together using the string as the delimiter\n",
    "* find(substring): returns the lowest index in the string where substring is found. If substring is not found, it returns -1\n",
    "\n",
    "\n",
    "#####  Built - In functions that apply on Strings : \n",
    "\n",
    "* len()\tString length can be determined by using built-in len() function.\n",
    "* ascii()\tPython ascii() function returns the string representation of the object. \n",
    "        This function internally calls repr() function and before returning the representation string, escapes the non-ASCII * * characters using \\x, \\u or \\U escapes.\n",
    "* bool()\tPython bool() function returns Boolean value for an object. The bool class has only two instances – True and False.\n",
    "* bytearray()\tPython bytearray() function returns a bytearray object that contains the array of bytes from the input source.\n",
    "* bytes()\tThis function returns bytes object that is an immutable sequence of integers in the range 0 <= x < 256.\n",
    "* ord()\tPython ord() function takes string argument of a single Unicode character and return its integer Unicode code point value.\n",
    "* enumerate()\tPython enumerate function takes a sequence, and then make each element of the sequence into a tuple.\n",
    "* float()\tfloat() function returns a floating point number from the input argument.\n",
    "* hash()\tThis function returns the hash value of the given object.\n",
    "* id()\tPython id() function returns the “identity” of the object.\n",
    "\t\tThe identity of an object is an integer, which is guaranteed to be unique and constant for this object during its lifetime.\n",
    "* int()\tPython int() function returns an integer object from the specified input. The returned int object will always be in base 10.\n",
    "* map()\tPython map() function is used to apply a function on all the elements of specified iterable and return map object.\n",
    "* print()\tPython print() function is used to print data into console.\n",
    "* slice()\tPython slice() function returns a slice object representing the set of indices specified by range(start, stop, step).\n",
    "* type()\tThis function returns the type of the object."
   ]
  },
  {
   "cell_type": "markdown",
   "metadata": {},
   "source": [
    "### f-strings\n",
    "\n",
    "Python f-strings is introduced to have minimal syntax for string formatting. The expressions are evaluated at runtime. If you are using Python 3.6 or higher version, you should use f-strings for all your string formatting requirements."
   ]
  },
  {
   "cell_type": "code",
   "execution_count": 4,
   "metadata": {},
   "outputs": [
    {
     "data": {
      "text/plain": [
       "'My name is Pankaj and I am 40 yrs old'"
      ]
     },
     "execution_count": 4,
     "metadata": {},
     "output_type": "execute_result"
    }
   ],
   "source": [
    "name = 'Pankaj'\n",
    "age = 40\n",
    "\n",
    "def intro(name,age):\n",
    "    return f'My name is {name} and I am {age} yrs old'\n",
    "\n",
    "intro(name,age)"
   ]
  },
  {
   "cell_type": "code",
   "execution_count": 7,
   "metadata": {},
   "outputs": [
    {
     "name": "stdout",
     "output_type": "stream",
     "text": [
      "My name is David and I am 15 yrs old\n"
     ]
    }
   ],
   "source": [
    "name = 'David'\n",
    "age = 15\n",
    "S= intro(name,age)\n",
    "print(S)"
   ]
  },
  {
   "cell_type": "code",
   "execution_count": 10,
   "metadata": {},
   "outputs": [
    {
     "name": "stdout",
     "output_type": "stream",
     "text": [
      "Ater 5 years age of 'David' will be 20\n",
      "Current datetime format is : 2021-02-17 13:19:33.712304\n",
      "formatted current datetime is : 02/17/2021\n"
     ]
    }
   ],
   "source": [
    "# f-strings with expressions and conversions # expression will stay in {expression}\n",
    "\n",
    "from datetime import datetime\n",
    "name = 'David'\n",
    "age = 15\n",
    "d = datetime.now()\n",
    "\n",
    "print(f'Ater 5 years age of {name!r} will be {age+5}') # Note every calculated expression is within {<expression>) only\n",
    "print(f'Current datetime format is : {d}')\n",
    "print(f'formatted current datetime is : {d:%m/%d/%Y}')"
   ]
  },
  {
   "cell_type": "code",
   "execution_count": 13,
   "metadata": {},
   "outputs": [
    {
     "name": "stdout",
     "output_type": "stream",
     "text": [
      "Current datetime format is :\n",
      " 2021-02-17 13:19:33.712304\n",
      "formatted current datetime is :\\n 02/17/2021\n"
     ]
    }
   ],
   "source": [
    "# F-strings works with raw strings\n",
    "print(f'Current datetime format is :\\n {d}')\n",
    "print(fr'formatted current datetime is :\\n {d:%m/%d/%Y}')"
   ]
  },
  {
   "cell_type": "code",
   "execution_count": 14,
   "metadata": {},
   "outputs": [
    {
     "name": "stdout",
     "output_type": "stream",
     "text": [
      "E[identity : 10, name :Pankaj]\n"
     ]
    }
   ],
   "source": [
    "# F-strings for objects and attributes\n",
    "\n",
    "class Employees:\n",
    "    id = 0 \n",
    "    name = ''\n",
    "    def __init__(self,id,name):\n",
    "        self.id = id\n",
    "        self.name = name\n",
    "    \n",
    "    def __str__(self):\n",
    "        return f'E[identity : {self.id}, name :{self.name}]'\n",
    "\n",
    "emp = Employees(10, 'Pankaj')\n",
    "print(emp)\n",
    "        "
   ]
  },
  {
   "cell_type": "code",
   "execution_count": 15,
   "metadata": {},
   "outputs": [
    {
     "name": "stdout",
     "output_type": "stream",
     "text": [
      "Sum(10,20) = 30\n"
     ]
    }
   ],
   "source": [
    "# F-strings used to call functions\n",
    "\n",
    "def add(x,y):\n",
    "    return x+y\n",
    "\n",
    "print(f'Sum(10,20) = {add(10, 20)}')"
   ]
  },
  {
   "cell_type": "code",
   "execution_count": 20,
   "metadata": {},
   "outputs": [
    {
     "name": "stdout",
     "output_type": "stream",
     "text": [
      "Lambda Example :20.5\n",
      "Lambda Example :420.25\n"
     ]
    }
   ],
   "source": [
    "# F-strings with Lambda expressions:\n",
    "\n",
    "x = -20.5\n",
    "print(f'Lambda Example :{(lambda x: abs(x)) (x)}')\n",
    "print(f'Lambda Example :{(lambda x:pow(x,2))(x)}' )"
   ]
  },
  {
   "cell_type": "markdown",
   "metadata": {},
   "source": [
    "#### Learning about the Lambda (anonymous function): \n",
    "basic syntax : \n",
    "\n",
    "lambda arguments: expression"
   ]
  },
  {
   "cell_type": "code",
   "execution_count": 26,
   "metadata": {},
   "outputs": [
    {
     "name": "stdout",
     "output_type": "stream",
     "text": [
      "25 598123441751746927043169025\n"
     ]
    }
   ],
   "source": [
    "# for creating small function as finding square of number \n",
    "\n",
    "f = lambda x : x*x \n",
    "a = f(5)\n",
    "b = f(24456562345345)\n",
    "print(a , b)"
   ]
  },
  {
   "cell_type": "code",
   "execution_count": null,
   "metadata": {},
   "outputs": [],
   "source": []
  }
 ],
 "metadata": {
  "kernelspec": {
   "display_name": "Python 3",
   "language": "python",
   "name": "python3"
  },
  "language_info": {
   "codemirror_mode": {
    "name": "ipython",
    "version": 3
   },
   "file_extension": ".py",
   "mimetype": "text/x-python",
   "name": "python",
   "nbconvert_exporter": "python",
   "pygments_lexer": "ipython3",
   "version": "3.7.1"
  }
 },
 "nbformat": 4,
 "nbformat_minor": 2
}
