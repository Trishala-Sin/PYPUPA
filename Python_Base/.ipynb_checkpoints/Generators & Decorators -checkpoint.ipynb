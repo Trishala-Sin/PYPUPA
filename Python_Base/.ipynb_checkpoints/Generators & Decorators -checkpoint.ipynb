{
 "cells": [
  {
   "cell_type": "markdown",
   "metadata": {},
   "source": [
    "\n",
    "#### GENERATOR\n",
    "\n",
    "Basically Python generator is a function.\n",
    " * The usage of yield, changes a normal function into a generator.\n",
    " * A normal function returns some value, generator yields some value. A generator automatically implements next() and _iter_."
   ]
  },
  {
   "cell_type": "code",
   "execution_count": 4,
   "metadata": {},
   "outputs": [
    {
     "name": "stdout",
     "output_type": "stream",
     "text": [
      "<generator object gereratorName at 0x000002116FD63048>\n"
     ]
    }
   ],
   "source": [
    "#sample syntax of python generator\n",
    "def gereratorName(argument):\n",
    "   #statements\n",
    "       yield argument\n",
    "   #statements\n",
    "\n",
    "\n",
    "#calling the generator\n",
    "variableName = gereratorName(10)\n",
    "print(variableName)"
   ]
  },
  {
   "cell_type": "code",
   "execution_count": 9,
   "metadata": {},
   "outputs": [
    {
     "name": "stdout",
     "output_type": "stream",
     "text": [
      "Mango\n",
      "Banana\n",
      "Apple\n",
      "Grapes\n"
     ]
    }
   ],
   "source": [
    "def fruit_generator():\n",
    "    yield \"Mango\"\n",
    "    yield \"Banana\"\n",
    "    yield \"Apple\"\n",
    "    yield \"Grapes\"\n",
    "\n",
    "getfruits = fruit_generator()\n",
    "\n",
    "for a in getfruits:\n",
    "    print(a)"
   ]
  },
  {
   "cell_type": "markdown",
   "metadata": {},
   "source": [
    "#### Working Procedure of Python Generator\n",
    "Let’s now see how the generator is actually working. Normal function terminates after the return statement but generator does not.\n",
    "\n",
    "* The first time we call the function it returns the first value that is yielded along with the iterator. \n",
    "* Next time when we call the generator then it resumes from where it was paused before.\n",
    "\n",
    "All the values are not returned at a time from a generator unlike normal function. This is the speciality of a generator. It generates the values by calling the function again and again which requires less memory when we are generating a huge number of values."
   ]
  },
  {
   "cell_type": "code",
   "execution_count": 10,
   "metadata": {},
   "outputs": [
    {
     "name": "stdout",
     "output_type": "stream",
     "text": [
      "10\n",
      "20\n",
      "30\n",
      "40\n",
      "50\n",
      "60\n",
      "70\n",
      "80\n",
      "90\n",
      "100\n"
     ]
    }
   ],
   "source": [
    "\n",
    "def timetable(number):\n",
    "    for i in range(1,11):\n",
    "        yield i * number\n",
    "        i += 1\n",
    "\n",
    "getTimeTable = timetable(10) \n",
    "\n",
    "for a in getTimeTable:\n",
    "    print(a)"
   ]
  },
  {
   "cell_type": "markdown",
   "metadata": {},
   "source": [
    "### PYTHON DECORATOR\n",
    "\n",
    "python decorator is nothing but a decorator that decorates a function. \n",
    "* For example, you have a flower vase in your home. \n",
    "* Now you want to decorate it with some flower and some ornaments. \n",
    "* Then you will be called as decorator and the flower and ornaments will be called additional functionalities."
   ]
  },
  {
   "cell_type": "code",
   "execution_count": 11,
   "metadata": {},
   "outputs": [
    {
     "name": "stdout",
     "output_type": "stream",
     "text": [
      "**** This is to ornamentalise vase ******\n",
      " &&&& This is the actual flower vase &&&&&\n"
     ]
    }
   ],
   "source": [
    "## sample for writing a decorator to a function : \n",
    "\n",
    "# example of decorator:\n",
    "def sampledecorator(func):\n",
    "    def additional_function():\n",
    "        # some new statments or flow control\n",
    "        print(\"**** This is to ornamentalise vase ******\")\n",
    "        # calling the function \n",
    "        func()\n",
    "    return additional_function\n",
    "\n",
    "@sampledecorator\n",
    "def actual_function():\n",
    "    print(\" &&&& This is the actual flower vase &&&&&\")\n",
    "    \n",
    "actual_function()"
   ]
  },
  {
   "cell_type": "code",
   "execution_count": null,
   "metadata": {},
   "outputs": [],
   "source": []
  }
 ],
 "metadata": {
  "kernelspec": {
   "display_name": "Python 3",
   "language": "python",
   "name": "python3"
  },
  "language_info": {
   "codemirror_mode": {
    "name": "ipython",
    "version": 3
   },
   "file_extension": ".py",
   "mimetype": "text/x-python",
   "name": "python",
   "nbconvert_exporter": "python",
   "pygments_lexer": "ipython3",
   "version": "3.7.1"
  }
 },
 "nbformat": 4,
 "nbformat_minor": 2
}
