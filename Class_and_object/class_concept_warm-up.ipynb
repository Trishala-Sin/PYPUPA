{
 "cells": [
  {
   "cell_type": "markdown",
   "metadata": {},
   "source": [
    "One of the popular approaches to solve a programming problem is by creating objects. This is known as Object-Oriented Programming (OOP).\n",
    "\n",
    "An object has two characteristics:\n",
    "\n",
    "* attributes\n",
    "* behavior\n",
    "\n",
    "Let's take an example:\n",
    "\n",
    "A parrot is can be an object,as it has the following properties:\n",
    "name, age, color as attributes\n",
    "singing, dancing as behavior.\n",
    "The concept of OOP in Python focuses on creating reusable code. This concept is also known as DRY (Don't Repeat Yourself)."
   ]
  },
  {
   "cell_type": "code",
   "execution_count": 1,
   "metadata": {},
   "outputs": [],
   "source": [
    "# Class\n",
    "# A class is a blueprint for the object.\n",
    "# We can think of class as a sketch of a parrot with labels.\n",
    "# It contains all the details about the name, colors, size etc.\n",
    "# Based on these descriptions, we can study about the parrot. Here, a parrot is an object.\n",
    "\n",
    "class parrot:\n",
    "    pass"
   ]
  },
  {
   "cell_type": "markdown",
   "metadata": {},
   "source": [
    " From class, we construct instances.An instance is a specific object created from a particular class.\n",
    " An object (instance) is an instantiation of a class.\n",
    " When class is defined, only the description for the object is defined.Therefore, no memory or storage is allocated.\n",
    "\n"
   ]
  },
  {
   "cell_type": "code",
   "execution_count": 2,
   "metadata": {},
   "outputs": [],
   "source": [
    "obj = parrot()"
   ]
  },
  {
   "cell_type": "code",
   "execution_count": 13,
   "metadata": {},
   "outputs": [],
   "source": [
    "# Example 1: Creating Class and Object in Python\n",
    "\n",
    "class parrot():\n",
    "    # class attribute\n",
    "    species = 'bird'\n",
    "    \n",
    "    # instance attribute\n",
    "    def __init__(self,name,age):\n",
    "        self.name=name\n",
    "        self.age=age\n",
    "\n",
    "    \n",
    "        "
   ]
  },
  {
   "cell_type": "code",
   "execution_count": 14,
   "metadata": {},
   "outputs": [],
   "source": [
    "# Intanciating the class oject \n",
    "\n",
    "Blu = parrot('blu',3)\n",
    "lulu = parrot('lulu',4)"
   ]
  },
  {
   "cell_type": "code",
   "execution_count": 15,
   "metadata": {},
   "outputs": [
    {
     "name": "stdout",
     "output_type": "stream",
     "text": [
      "Blu is a bird \n",
      "lulu is a bird \n"
     ]
    }
   ],
   "source": [
    "# access the class attributes\n",
    "\n",
    "print(\"Blu is a {} \".format(Blu.__class__.species) )\n",
    "print(\"lulu is a {} \".format(lulu.__class__.species))"
   ]
  },
  {
   "cell_type": "code",
   "execution_count": 16,
   "metadata": {},
   "outputs": [
    {
     "name": "stdout",
     "output_type": "stream",
     "text": [
      "blu is bird of age 3\n",
      "lulu is a bird of age 4\n"
     ]
    }
   ],
   "source": [
    "# access the class instance attributes with class attribute\n",
    "\n",
    "print(\"{} is {} of age {}\".format(Blu.name , Blu.__class__.species , Blu.age))\n",
    "print(\"{} is a {} of age {}\".format(lulu.name , lulu.__class__.species , lulu.age))"
   ]
  },
  {
   "cell_type": "markdown",
   "metadata": {},
   "source": [
    "####  Methods\n",
    "Methods are functions defined inside the body of a class. They are used to define the behaviors of an object."
   ]
  },
  {
   "cell_type": "code",
   "execution_count": 17,
   "metadata": {},
   "outputs": [],
   "source": [
    "class parrot():\n",
    "    def __init__(self,name,age):\n",
    "        self.name = name \n",
    "        self.age = age \n",
    "    def sing(self,song):\n",
    "        return \"{} is singing {} song\".format(self.name,song)\n",
    "    def  dance(self):\n",
    "        return \"{} is dancing now\".format(self.name)"
   ]
  },
  {
   "cell_type": "code",
   "execution_count": 21,
   "metadata": {},
   "outputs": [
    {
     "name": "stdout",
     "output_type": "stream",
     "text": [
      "chi is singing melancholy song\n",
      "phi is dancing now\n"
     ]
    }
   ],
   "source": [
    "p1 = parrot('chi',2)\n",
    "p2 = parrot('phi',3)\n",
    "\n",
    "# call our instance methods\n",
    "print(p1.sing(\"melancholy\"))\n",
    "print(p2.dance())\n",
    "\n",
    "# we define two methods i.e sing() and dance(). \n",
    "# These are called instance methods because they are called on an instance object i.e chi & phi"
   ]
  },
  {
   "cell_type": "code",
   "execution_count": null,
   "metadata": {},
   "outputs": [],
   "source": []
  }
 ],
 "metadata": {
  "kernelspec": {
   "display_name": "Python 3",
   "language": "python",
   "name": "python3"
  },
  "language_info": {
   "codemirror_mode": {
    "name": "ipython",
    "version": 3
   },
   "file_extension": ".py",
   "mimetype": "text/x-python",
   "name": "python",
   "nbconvert_exporter": "python",
   "pygments_lexer": "ipython3",
   "version": "3.7.1"
  }
 },
 "nbformat": 4,
 "nbformat_minor": 2
}
