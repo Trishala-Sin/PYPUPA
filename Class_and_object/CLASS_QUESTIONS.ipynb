{
 "cells": [
  {
   "cell_type": "markdown",
   "id": "ab5a6c23",
   "metadata": {},
   "source": [
    "\n",
    "####  Level 1\n",
    "Question 1 : \n",
    "\n",
    "Define a class which has at least two methods:\n",
    "\n",
    "* getString: to get a string from console input\n",
    "* printString: to print the string in upper case.\n",
    "\n",
    "Also please include simple test function to test the class methods."
   ]
  },
  {
   "cell_type": "code",
   "execution_count": 11,
   "id": "09e0573e",
   "metadata": {},
   "outputs": [],
   "source": [
    "class Io_process(object):\n",
    "    def __init__(self):\n",
    "        self.s = ''\n",
    "    def getString(self):\n",
    "        self.s = input()\n",
    "    def printString(self):\n",
    "        print(self.s.upper())\n",
    "        \n",
    "        "
   ]
  },
  {
   "cell_type": "code",
   "execution_count": 12,
   "id": "095d06c2",
   "metadata": {},
   "outputs": [],
   "source": [
    "io = Io_process()"
   ]
  },
  {
   "cell_type": "code",
   "execution_count": 14,
   "id": "f517d4c1",
   "metadata": {},
   "outputs": [
    {
     "name": "stdout",
     "output_type": "stream",
     "text": [
      "hey world\n"
     ]
    }
   ],
   "source": [
    "io.getString()"
   ]
  },
  {
   "cell_type": "code",
   "execution_count": 15,
   "id": "76207140",
   "metadata": {},
   "outputs": [
    {
     "name": "stdout",
     "output_type": "stream",
     "text": [
      "HEY WORLD\n"
     ]
    }
   ],
   "source": [
    "io.printString()"
   ]
  },
  {
   "cell_type": "markdown",
   "id": "5f4c3889",
   "metadata": {},
   "source": [
    "Level 2\n",
    "\n",
    "Question:\n",
    "Write a program that accepts a sequence of whitespace separated words as input and prints the words after removing all duplicate words and sorting them alphanumerically.\n",
    "\n",
    "Suppose the following input is supplied to the program:\n",
    "\n",
    "hello world and practice makes perfect and hello world again\n",
    "\n",
    "Then, the output should be:\n",
    "\n",
    "again and hello makes perfect practice world\n",
    "\n",
    "Hints:\n",
    "In case of input data being supplied to the question, it should be assumed to be a console input.\n",
    "We use set container to remove duplicated data automatically and then use sorted() to sort the data."
   ]
  },
  {
   "cell_type": "code",
   "execution_count": 29,
   "id": "fde556c4",
   "metadata": {},
   "outputs": [],
   "source": [
    "\n",
    "def sorted_words():\n",
    "    #s = sorted(list({str(input()).split(' ')}))\n",
    "    s = sorted(list(set(str(input()).split(' '))))\n",
    "    return ' '.join(s)"
   ]
  },
  {
   "cell_type": "code",
   "execution_count": 31,
   "id": "ed546f4f",
   "metadata": {},
   "outputs": [
    {
     "name": "stdout",
     "output_type": "stream",
     "text": [
      "2223456\n"
     ]
    },
    {
     "data": {
      "text/plain": [
       "'2223456'"
      ]
     },
     "execution_count": 31,
     "metadata": {},
     "output_type": "execute_result"
    }
   ],
   "source": [
    "sorted_words()"
   ]
  },
  {
   "cell_type": "markdown",
   "id": "3faadb62",
   "metadata": {},
   "source": [
    "Write a program that accepts sequence of lines as input and prints the lines after making all characters in the sentence capitalized.\n",
    "Suppose the following input is supplied to the program:\n",
    "Hello world\n",
    "Practice makes perfect\n",
    "Then, the output should be:\n",
    "HELLO WORLD\n",
    "PRACTICE MAKES PERFECT\n",
    "\n",
    "Hints:\n",
    "In case of input data being supplied to the question, it should be assumed to be a console input."
   ]
  }
 ],
 "metadata": {
  "kernelspec": {
   "display_name": "Python 3",
   "language": "python",
   "name": "python3"
  },
  "language_info": {
   "codemirror_mode": {
    "name": "ipython",
    "version": 3
   },
   "file_extension": ".py",
   "mimetype": "text/x-python",
   "name": "python",
   "nbconvert_exporter": "python",
   "pygments_lexer": "ipython3",
   "version": "3.7.1"
  }
 },
 "nbformat": 4,
 "nbformat_minor": 5
}
