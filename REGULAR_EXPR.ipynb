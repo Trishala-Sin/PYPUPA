{
 "cells": [
  {
   "cell_type": "code",
   "execution_count": 5,
   "metadata": {},
   "outputs": [],
   "source": [
    "import re "
   ]
  },
  {
   "cell_type": "code",
   "execution_count": 9,
   "metadata": {},
   "outputs": [
    {
     "name": "stdout",
     "output_type": "stream",
     "text": [
      "match found -  word::cat\n"
     ]
    }
   ],
   "source": [
    "# match = re.search(pat,str) - pat needs to be searched in str o/p - object of the search pattern\n",
    "string = 'an example follows as word::cat!!'\n",
    "match = re.search('word::\\w\\w\\w',string)\n",
    "if match :\n",
    "    print(\"match found - \" ,match.group() ) ## check that .group() returns the object found in the search\n",
    "else:\n",
    "    print(\"Not Found!!\")"
   ]
  },
  {
   "cell_type": "markdown",
   "metadata": {},
   "source": [
    "### The most basic patterns which match single chars:\n",
    "1) a, X, 9, <--ordinary characters just match themselves exactly. The meta-characters which do not match themselves because they have special meanings are: \\. \\^\\$ \\* \\+ \\? \\{ \\[ \\] \\\\ \\| \\( \\) \\(detailsbelow\\)\n",
    "  . (a period) -- matches any single character except newline '\\n'\n",
    "\\w -- (lowercase w) matches a \"word\" character: a letter or digit or underbar [a-zA-Z0-9_]. Note that although \"word\" is the mnemonic for this, it only matches a single word char, not a whole word. \\W (upper case W) matches any non-word character.\n",
    "\\b -- boundary between word and non-word\n",
    "\\s -- (lowercase s) matches a single whitespace character -- space, newline, return, tab, form [ \\n\\r\\t\\f]. \\S (upper case S) matches any non-whitespace character.\n",
    "\\t, \\n, \\r -- tab, newline, return\n",
    "\\d -- decimal digit [0-9] (some older regex utilities do not support but \\d, but they all support \\w and \\s)\n",
    "\\^ = start, \\$ = end -- match the start or end of the string\n",
    "\\ -- inhibit the \"specialness\" of a character. So, for example, use \\. to match a period or \\\\ to match a slash. If you are unsure if a character has special meaning, such as '@', you can put a slash in front of it, \\@, to make sure it is treated just as a character."
   ]
  },
  {
   "cell_type": "code",
   "execution_count": 13,
   "metadata": {},
   "outputs": [
    {
     "name": "stdout",
     "output_type": "stream",
     "text": [
      "Found\n"
     ]
    }
   ],
   "source": [
    "## Search for pattern 'iii' in string 'piiig'.\n",
    "  ## All of the pattern must match, but it may appear anywhere.\n",
    "  ## On success, match.group() is matched text.\n",
    "match = re.search(r'iii', 'piiig') # found, \n",
    "if match.group() == \"iii\":\n",
    "    print(\"Found\")"
   ]
  },
  {
   "cell_type": "code",
   "execution_count": null,
   "metadata": {},
   "outputs": [],
   "source": [
    "  #match = re.search(r'igs', 'piiig') # not found, match == None\n",
    "\n",
    "  ## . = any char but \\n\n",
    "  #match = re.search(r'..g', 'piiig') # found, match.group() == \"iig\"\n",
    "\n",
    "  ## \\d = digit char, \\w = word char\n",
    "  #match = re.search(r'\\d\\d\\d', 'p123g') # found, match.group() == \"123\"\n",
    "  #match = re.search(r'\\w\\w\\w', '@@abcd!!') # found, match.group() == \"abc\""
   ]
  },
  {
   "cell_type": "code",
   "execution_count": null,
   "metadata": {},
   "outputs": [],
   "source": [
    "\n",
    "\n",
    "r = \"\"\"SELECT * FROM  \n",
    "latest_slice::sale_order so INNER JOIN latest_slice::res_partner rp ON  so.id = rp.id\"\"\"\n",
    "\n",
    "\n",
    "def replace_latest_slice(str):\n",
    "    a = {}\n",
    "    for i in re.finditer(\"latest_slice::\", str):\n",
    "        st = i.start()\n",
    "        f = str.find(' ', i.end() + 1)\n",
    "        f = len(str) if f == -1 else f\n",
    "        tab = r[st:f].split()[-1]\n",
    "        rep = \"(SELECT * FROM \" + tab + \" WHERE DS = 'LATEST')\"\n",
    "\n",
    "        a[str[st:f]] = rep\n",
    "\n",
    "    for key, val in a.items():\n",
    "        str = str.replace(key, val)\n",
    "    return str\n",
    "\n",
    "\n",
    "print(\"orignal) :\" + r)\n",
    "print(\"answer :\" + replace_latest_slice(r))"
   ]
  },
  {
   "cell_type": "code",
   "execution_count": 18,
   "metadata": {},
   "outputs": [],
   "source": [
    "\n",
    "r = \"\"\"SELECT * FROM latest_slice::sale_order so INNER JOIN latest_slice::res_partner rp ON  so.id = rp.id\"\"\"\n",
    "\n",
    "\n",
    "def replace_latest_slice(str):\n",
    "    a = {}\n",
    "    for i in re.finditer(\"latest_slice::\", str):\n",
    "        print(i.group())\n",
    "\n",
    "    return str"
   ]
  },
  {
   "cell_type": "code",
   "execution_count": 19,
   "metadata": {},
   "outputs": [
    {
     "name": "stdout",
     "output_type": "stream",
     "text": [
      "latest_slice::\n",
      "latest_slice::\n",
      "answer :SELECT * FROM latest_slice::sale_order so INNER JOIN latest_slice::res_partner rp ON  so.id = rp.id\n"
     ]
    }
   ],
   "source": [
    "print(\"answer :\" + replace_latest_slice(r))"
   ]
  },
  {
   "cell_type": "code",
   "execution_count": null,
   "metadata": {},
   "outputs": [],
   "source": []
  }
 ],
 "metadata": {
  "kernelspec": {
   "display_name": "Python 3",
   "language": "python",
   "name": "python3"
  },
  "language_info": {
   "codemirror_mode": {
    "name": "ipython",
    "version": 3
   },
   "file_extension": ".py",
   "mimetype": "text/x-python",
   "name": "python",
   "nbconvert_exporter": "python",
   "pygments_lexer": "ipython3",
   "version": "3.7.1"
  }
 },
 "nbformat": 4,
 "nbformat_minor": 2
}
