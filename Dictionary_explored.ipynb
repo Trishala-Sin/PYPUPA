{
 "cells": [
  {
   "cell_type": "markdown",
   "metadata": {},
   "source": [
    "## Dictionary Exploration \n",
    "\n",
    "* it is a hash table \n",
    "Dictionary(mutable) is unordered collection of items (un-indexable),\n",
    "unlike tuple(immutable) and list(mutable) which are ordered.\n",
    "It works in the format of Key,value pair as in key would be the unique index for value stored.\n",
    "\n",
    "* Dictionarys are faster than any other data structures in python as they use hash algo where as if you use any other data structure such as list of tuples and if you have to seacrh of any specific value it would go and each of the list's tuple sequentially and that makes it slower whereas in dictionary it is directly accessible due to hashing."
   ]
  },
  {
   "cell_type": "code",
   "execution_count": 1,
   "metadata": {},
   "outputs": [
    {
     "name": "stdout",
     "output_type": "stream",
     "text": [
      "{}\n",
      "{1: 'abc', 2: 'xyz'}\n",
      "{'name': 'heena', 1: ['abc', 'xyz']}\n"
     ]
    }
   ],
   "source": [
    "# empty dictionary \n",
    "\n",
    "my_dict = {}\n",
    "\n",
    "print(my_dict)\n",
    "\n",
    "my_dict = {1:'abc',2:'xyz'}\n",
    "\n",
    "print(my_dict)\n",
    "\n",
    "my_dict = {'name':\"heena\",1:['abc','xyz']}\n",
    "\n",
    "print(my_dict)"
   ]
  },
  {
   "cell_type": "code",
   "execution_count": 3,
   "metadata": {},
   "outputs": [
    {
     "name": "stdout",
     "output_type": "stream",
     "text": [
      "reha\n"
     ]
    }
   ],
   "source": [
    "my_dict ={'name':'reha','age': 40,'address':'himalya'}\n",
    "\n",
    "print(my_dict['name'])"
   ]
  },
  {
   "cell_type": "code",
   "execution_count": 4,
   "metadata": {},
   "outputs": [
    {
     "ename": "KeyError",
     "evalue": "'degree'",
     "output_type": "error",
     "traceback": [
      "\u001b[1;31m---------------------------------------------------------------------------\u001b[0m",
      "\u001b[1;31mKeyError\u001b[0m                                  Traceback (most recent call last)",
      "\u001b[1;32m<ipython-input-4-88c6dfc57f6d>\u001b[0m in \u001b[0;36m<module>\u001b[1;34m\u001b[0m\n\u001b[1;32m----> 1\u001b[1;33m \u001b[0mprint\u001b[0m\u001b[1;33m(\u001b[0m\u001b[0mmy_dict\u001b[0m\u001b[1;33m[\u001b[0m\u001b[1;34m'degree'\u001b[0m\u001b[1;33m]\u001b[0m\u001b[1;33m)\u001b[0m\u001b[1;33m\u001b[0m\u001b[1;33m\u001b[0m\u001b[0m\n\u001b[0m",
      "\u001b[1;31mKeyError\u001b[0m: 'degree'"
     ]
    }
   ],
   "source": [
    "print(my_dict['degree'])"
   ]
  },
  {
   "cell_type": "markdown",
   "metadata": {},
   "source": [
    "#### the other way to get values of the dictonary other then accsseing through keys is .get(< keyaddress>)"
   ]
  },
  {
   "cell_type": "code",
   "execution_count": 5,
   "metadata": {},
   "outputs": [
    {
     "name": "stdout",
     "output_type": "stream",
     "text": [
      "himalya\n"
     ]
    }
   ],
   "source": [
    "print(my_dict.get('address'))"
   ]
  },
  {
   "cell_type": "code",
   "execution_count": 6,
   "metadata": {},
   "outputs": [
    {
     "name": "stdout",
     "output_type": "stream",
     "text": [
      "None\n"
     ]
    }
   ],
   "source": [
    "print(my_dict.get('degree')) # here no error generated hence this way is prefered more"
   ]
  },
  {
   "cell_type": "markdown",
   "metadata": {},
   "source": [
    "## Dict add or modify item "
   ]
  },
  {
   "cell_type": "code",
   "execution_count": 11,
   "metadata": {},
   "outputs": [
    {
     "name": "stdout",
     "output_type": "stream",
     "text": [
      "40\n",
      "{'name': 'Raju', 'address': 'himalya'}\n",
      "{2: 4, 4: 16, 5: 25}\n",
      "{}\n"
     ]
    }
   ],
   "source": [
    "my_dict ={'name':'reha','age': 40,'address':'himalya'}\n",
    "\n",
    "# update element \n",
    "\n",
    "my_dict['name'] = 'Raju'\n",
    "\n",
    "# Add element \n",
    "\n",
    "my_dict['degree'] = 'M.Tech'\n",
    "\n",
    "# Pop element \n",
    "\n",
    "Age = my_dict.pop('age')\n",
    "print(Age)\n",
    "\n",
    "# Pop any arbitrary element \n",
    "\n",
    "my_dict.popitem()\n",
    "print(my_dict)\n",
    "\n",
    "# delete using del \n",
    "\n",
    "squares = {2:4,3:9,4:16,5:25}\n",
    "\n",
    "del squares[3] \n",
    "print(squares)\n",
    "\n",
    "# clear() deletes all element from a dictionary \n",
    "\n",
    "my_dict.clear()\n",
    "print(my_dict)\n",
    "\n",
    "del squares # printing this would give error \n"
   ]
  },
  {
   "cell_type": "markdown",
   "metadata": {},
   "source": [
    "## Dictionary Methods : "
   ]
  },
  {
   "cell_type": "code",
   "execution_count": 12,
   "metadata": {},
   "outputs": [
    {
     "name": "stdout",
     "output_type": "stream",
     "text": [
      "{2: 4, 3: 9, 4: 16, 5: 25}\n"
     ]
    }
   ],
   "source": [
    "## COPY\n",
    "squares = {2:4,3:9,4:16,5:25}\n",
    "my_dict= squares.copy()\n",
    "\n",
    "print(my_dict)"
   ]
  },
  {
   "cell_type": "code",
   "execution_count": 13,
   "metadata": {},
   "outputs": [],
   "source": [
    "## fromkeys([list of keys],value]) --> for assigning the set of keys as same value\n",
    "D2 = {}.fromkeys(['eng','math','sci'],0)"
   ]
  },
  {
   "cell_type": "code",
   "execution_count": 14,
   "metadata": {},
   "outputs": [
    {
     "name": "stdout",
     "output_type": "stream",
     "text": [
      "{'eng': 0, 'math': 0, 'sci': 0}\n"
     ]
    }
   ],
   "source": [
    "print(D2)"
   ]
  },
  {
   "cell_type": "code",
   "execution_count": 16,
   "metadata": {},
   "outputs": [
    {
     "name": "stdout",
     "output_type": "stream",
     "text": [
      "dict_items([(2, 4), (3, 9), (4, 16), (5, 25)])\n"
     ]
    }
   ],
   "source": [
    "subjects = {2:4,3:9,4:16,5:25}\n",
    "\n",
    "print(subjects.items()) # gives the list of tuples (once dictionary elements)"
   ]
  },
  {
   "cell_type": "code",
   "execution_count": null,
   "metadata": {},
   "outputs": [],
   "source": []
  },
  {
   "cell_type": "code",
   "execution_count": null,
   "metadata": {},
   "outputs": [],
   "source": [
    "that video answers are very confused.... they are just listion every possible thing with dictionary such comprehension \n",
    "and "
   ]
  },
  {
   "cell_type": "code",
   "execution_count": null,
   "metadata": {},
   "outputs": [],
   "source": [
    "people are using comprehensions to sort dict"
   ]
  },
  {
   "cell_type": "code",
   "execution_count": 22,
   "metadata": {},
   "outputs": [
    {
     "ename": "SyntaxError",
     "evalue": "invalid syntax (<ipython-input-22-cd92e4941581>, line 3)",
     "output_type": "error",
     "traceback": [
      "\u001b[1;36m  File \u001b[1;32m\"<ipython-input-22-cd92e4941581>\"\u001b[1;36m, line \u001b[1;32m3\u001b[0m\n\u001b[1;33m    I have done list , loop is left class will do with you also i have stuied it earlier but you can tell in more detail.\u001b[0m\n\u001b[1;37m         ^\u001b[0m\n\u001b[1;31mSyntaxError\u001b[0m\u001b[1;31m:\u001b[0m invalid syntax\n"
     ]
    }
   ],
   "source": [
    "i told u, try to practice dic , loop, list, class, dataframe, time is 12 now,when u will start loop, class , list??\n",
    "\n",
    "I have done list , loop is left class will do with you also i have stuied it earlier but you can tell in more detail.\n",
    "\n",
    "I am left with dataframe and dictionarys \n",
    "\n",
    "\n",
    "\n",
    "\n",
    "\n",
    "\n",
    "\n",
    "\n",
    "\n",
    "\n",
    "\n",
    "\n",
    "\n",
    "can i ask list q?? \n",
    "\n",
    "\n",
    "dic ho gaya ??nhi thoda sa bacha hai ekdum last pr hu leave it\n",
    "   just watch it\n",
    "\n"
   ]
  },
  {
   "cell_type": "code",
   "execution_count": null,
   "metadata": {},
   "outputs": [],
   "source": []
  },
  {
   "cell_type": "code",
   "execution_count": null,
   "metadata": {},
   "outputs": [],
   "source": []
  },
  {
   "cell_type": "code",
   "execution_count": 17,
   "metadata": {},
   "outputs": [
    {
     "name": "stdout",
     "output_type": "stream",
     "text": [
      "Object `values` not found.\n"
     ]
    }
   ],
   "source": [
    "how to sort dictionary keys and values?? - dictionarys are unordered DS : google it.. u will get some answerok "
   ]
  },
  {
   "cell_type": "code",
   "execution_count": null,
   "metadata": {},
   "outputs": [],
   "source": [
    "how to sort dictionary keys and values"
   ]
  },
  {
   "cell_type": "code",
   "execution_count": 18,
   "metadata": {},
   "outputs": [
    {
     "name": "stdout",
     "output_type": "stream",
     "text": [
      "Object `dic` not found.\n"
     ]
    }
   ],
   "source": [
    "find the minimum or maximum value in dic?"
   ]
  },
  {
   "cell_type": "code",
   "execution_count": null,
   "metadata": {},
   "outputs": [],
   "source": [
    "find the minimum or maximum value in dic"
   ]
  },
  {
   "cell_type": "code",
   "execution_count": 19,
   "metadata": {},
   "outputs": [
    {
     "name": "stdout",
     "output_type": "stream",
     "text": [
      "Object `dic` not found.\n"
     ]
    }
   ],
   "source": [
    "remove duplicate values from dic??"
   ]
  },
  {
   "cell_type": "code",
   "execution_count": null,
   "metadata": {},
   "outputs": [],
   "source": [
    "remove duplicate values from dic"
   ]
  },
  {
   "cell_type": "code",
   "execution_count": 20,
   "metadata": {},
   "outputs": [
    {
     "name": "stdout",
     "output_type": "stream",
     "text": [
      "Object `dic` not found.\n"
     ]
    }
   ],
   "source": [
    "how to merge 2 dic??"
   ]
  },
  {
   "cell_type": "code",
   "execution_count": null,
   "metadata": {},
   "outputs": [],
   "source": [
    "how to merge 2 dic"
   ]
  },
  {
   "cell_type": "code",
   "execution_count": null,
   "metadata": {},
   "outputs": [],
   "source": []
  },
  {
   "cell_type": "code",
   "execution_count": 31,
   "metadata": {},
   "outputs": [],
   "source": [
    "d= {'one':1,'three':3,'five':5,'two':2,'four':4}"
   ]
  },
  {
   "cell_type": "code",
   "execution_count": null,
   "metadata": {},
   "outputs": [],
   "source": [
    "how to print both values & keys, try it in what form ?\n",
    "\n",
    "\n",
    "how to apply loop here, write logic"
   ]
  },
  {
   "cell_type": "code",
   "execution_count": 35,
   "metadata": {},
   "outputs": [
    {
     "data": {
      "text/plain": [
       "dict_keys(['one', 'three', 'five', 'two', 'four'])"
      ]
     },
     "execution_count": 35,
     "metadata": {},
     "output_type": "execute_result"
    }
   ],
   "source": [
    "d.keys()\n",
    "    \n"
   ]
  },
  {
   "cell_type": "code",
   "execution_count": 36,
   "metadata": {},
   "outputs": [
    {
     "data": {
      "text/plain": [
       "dict_values([1, 3, 5, 2, 4])"
      ]
     },
     "execution_count": 36,
     "metadata": {},
     "output_type": "execute_result"
    }
   ],
   "source": [
    "d.values()"
   ]
  },
  {
   "cell_type": "code",
   "execution_count": 37,
   "metadata": {},
   "outputs": [
    {
     "data": {
      "text/plain": [
       "dict_values"
      ]
     },
     "execution_count": 37,
     "metadata": {},
     "output_type": "execute_result"
    }
   ],
   "source": [
    "type(d.values())"
   ]
  },
  {
   "cell_type": "code",
   "execution_count": 38,
   "metadata": {},
   "outputs": [
    {
     "data": {
      "text/plain": [
       "dict"
      ]
     },
     "execution_count": 38,
     "metadata": {},
     "output_type": "execute_result"
    }
   ],
   "source": [
    "type(d)"
   ]
  },
  {
   "cell_type": "code",
   "execution_count": null,
   "metadata": {},
   "outputs": [],
   "source": []
  },
  {
   "cell_type": "code",
   "execution_count": 39,
   "metadata": {},
   "outputs": [
    {
     "name": "stdout",
     "output_type": "stream",
     "text": [
      "one 1\n",
      "three 3\n",
      "five 5\n",
      "two 2\n",
      "four 4\n"
     ]
    }
   ],
   "source": [
    "for k,v in d.items():\n",
    "    print(k,v)"
   ]
  },
  {
   "cell_type": "code",
   "execution_count": 42,
   "metadata": {},
   "outputs": [
    {
     "data": {
      "text/plain": [
       "[9, 8, 2, 3]"
      ]
     },
     "execution_count": 42,
     "metadata": {},
     "output_type": "execute_result"
    }
   ],
   "source": [
    "l = [3,2,8,9]\n",
    "\n",
    "\n",
    "\n",
    "\n",
    "l[::-1]"
   ]
  },
  {
   "cell_type": "code",
   "execution_count": 43,
   "metadata": {},
   "outputs": [],
   "source": [
    "length = len(l)"
   ]
  },
  {
   "cell_type": "code",
   "execution_count": 60,
   "metadata": {},
   "outputs": [
    {
     "name": "stdout",
     "output_type": "stream",
     "text": [
      "[9, 8, 2, 3]\n"
     ]
    }
   ],
   "source": [
    "l = [3,2,8,9]\n",
    "ln = len(l)\n",
    "x = []\n",
    "for i in range(ln-1,-1,-1):\n",
    "    x.append(l[i])\n",
    "print(x)"
   ]
  },
  {
   "cell_type": "code",
   "execution_count": 62,
   "metadata": {},
   "outputs": [
    {
     "name": "stdout",
     "output_type": "stream",
     "text": [
      "[9, 8, 2, 3]\n"
     ]
    }
   ],
   "source": [
    "\n",
    "l = [3,2,8,9]\n",
    "ln = len(l)\n",
    "x = []\n",
    "for i in range(ln):\n",
    "    x.append(l[ln -i-1])\n",
    "print(x)"
   ]
  },
  {
   "cell_type": "code",
   "execution_count": 72,
   "metadata": {},
   "outputs": [
    {
     "name": "stdout",
     "output_type": "stream",
     "text": [
      "[9, 8, 2, 3]\n"
     ]
    }
   ],
   "source": [
    "l = [3,2,8,9]\n",
    "ln = len(l)\n",
    "x = []\n",
    "for i in range(ln):\n",
    "     x.insert(i,l[ln -i-1])\n",
    "print(x)"
   ]
  },
  {
   "cell_type": "code",
   "execution_count": 77,
   "metadata": {},
   "outputs": [
    {
     "name": "stdout",
     "output_type": "stream",
     "text": [
      "0\n",
      "1\n",
      "2\n",
      "3\n"
     ]
    }
   ],
   "source": [
    "l = [3,2,8,9]\n",
    "ln = len(l)\n",
    "x = []\n",
    "for i,v in enumerate(l):\n",
    "    print(i)\n",
    "    "
   ]
  },
  {
   "cell_type": "code",
   "execution_count": 86,
   "metadata": {},
   "outputs": [
    {
     "name": "stdout",
     "output_type": "stream",
     "text": [
      "0\n",
      "1\n",
      "2\n",
      "3\n"
     ]
    }
   ],
   "source": [
    "l = [3,2,8,9]\n",
    "ln = len(l)\n",
    "x = []\n",
    "for i,v in enumerate(l):\n",
    "    print(i)"
   ]
  },
  {
   "cell_type": "code",
   "execution_count": 94,
   "metadata": {},
   "outputs": [
    {
     "name": "stdout",
     "output_type": "stream",
     "text": [
      "this is even 0\n",
      "odd\n",
      "this is even 2\n",
      "odd\n",
      "this is even 4\n",
      "odd\n",
      "this is even 6\n",
      "odd\n",
      "this is even 8\n",
      "odd\n",
      "this is even 10\n"
     ]
    }
   ],
   "source": [
    "for i in range(0,11):\n",
    "    if i % 2 == 0:\n",
    "        print(\"this is even\" ,i )\n",
    "    else: \n",
    "        print(\"odd\")"
   ]
  },
  {
   "cell_type": "code",
   "execution_count": 107,
   "metadata": {},
   "outputs": [
    {
     "name": "stdout",
     "output_type": "stream",
     "text": [
      "888854323\n"
     ]
    }
   ],
   "source": [
    "n = 12345\n",
    "sum = 15\n",
    "output = 54321\n",
    "s =0\n",
    "while ( n > 0):\n",
    "    rem = n % 10\n",
    "    n = n // 10\n",
    "    \n",
    "    s = rem + s*10\n",
    "    \n",
    "print(s)"
   ]
  },
  {
   "cell_type": "code",
   "execution_count": 108,
   "metadata": {},
   "outputs": [
    {
     "name": "stdout",
     "output_type": "stream",
     "text": [
      "15\n"
     ]
    }
   ],
   "source": [
    "n = 12345\n",
    "sum = 15\n",
    "output = 54321\n",
    "s =0\n",
    "while ( n > 0):\n",
    "    rem = n % 10\n",
    "    n = n // 10\n",
    "    \n",
    "    s = rem + s\n",
    "    \n",
    "print(s)"
   ]
  },
  {
   "cell_type": "code",
   "execution_count": 111,
   "metadata": {},
   "outputs": [
    {
     "name": "stdout",
     "output_type": "stream",
     "text": [
      "[8, 5, 8, 1, 13]\n"
     ]
    }
   ],
   "source": [
    "l = [8,5,13,8,1]\n",
    "\n",
    "\n",
    "\n",
    "for i in range(len(l)-1):\n",
    "    for j in range(1,len(l)-1-i):\n",
    "        if l[i]<l[j]:\n",
    "            l[j],l[j+1] = l[j+1],l[j]\n",
    "            \n",
    "print(l)\n",
    "            "
   ]
  },
  {
   "cell_type": "code",
   "execution_count": 109,
   "metadata": {},
   "outputs": [
    {
     "name": "stdout",
     "output_type": "stream",
     "text": [
      "5\n"
     ]
    }
   ],
   "source": [
    "there? ???????? "
   ]
  },
  {
   "cell_type": "code",
   "execution_count": 112,
   "metadata": {},
   "outputs": [
    {
     "name": "stdout",
     "output_type": "stream",
     "text": [
      "[8, 1, 5, 8, 13]\n"
     ]
    }
   ],
   "source": [
    "\n",
    "for i in range(len(l)-1):\n",
    "    for j in range(1,len(l)-1-i):\n",
    "        if l[j] > l[j+1]:\n",
    "            l[j],l[j+1] = l[j+1],l[j]\n",
    "            \n",
    "print(l)"
   ]
  },
  {
   "cell_type": "code",
   "execution_count": null,
   "metadata": {},
   "outputs": [],
   "source": [
    "my mind is not working now\n",
    "take rest\n",
    "\n",
    "\n"
   ]
  }
 ],
 "metadata": {
  "kernelspec": {
   "display_name": "Python 3",
   "language": "python",
   "name": "python3"
  },
  "language_info": {
   "codemirror_mode": {
    "name": "ipython",
    "version": 3
   },
   "file_extension": ".py",
   "mimetype": "text/x-python",
   "name": "python",
   "nbconvert_exporter": "python",
   "pygments_lexer": "ipython3",
   "version": "3.7.1"
  }
 },
 "nbformat": 4,
 "nbformat_minor": 2
}
