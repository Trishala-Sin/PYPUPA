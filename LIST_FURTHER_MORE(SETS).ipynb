{
 "cells": [
  {
   "cell_type": "markdown",
   "source": [
    "### List furthur more "
   ],
   "metadata": {}
  },
  {
   "cell_type": "code",
   "execution_count": 5,
   "source": [
    "# string.split('delimeter') default character is white character - space and tab\r\n",
    "\r\n",
    "## List indexing \r\n",
    "\r\n",
    "l1 = [\"one\",\"two\",\"three\", \"four\", \"five\"]\r\n",
    "print(l1[-1])\r\n",
    "\r\n",
    "print (l1[1:2])\r\n",
    "print(l1[1:-1:2]) # start index - 0 position, end index -1 ,step_size = 2(value at second step)"
   ],
   "outputs": [
    {
     "output_type": "stream",
     "name": "stdout",
     "text": [
      "five\n",
      "['two']\n",
      "['two', 'four']\n"
     ]
    }
   ],
   "metadata": {}
  },
  {
   "cell_type": "code",
   "execution_count": null,
   "source": [],
   "outputs": [],
   "metadata": {}
  },
  {
   "cell_type": "code",
   "execution_count": null,
   "source": [],
   "outputs": [],
   "metadata": {}
  },
  {
   "cell_type": "markdown",
   "source": [
    "### List extend usnig '+'"
   ],
   "metadata": {}
  },
  {
   "cell_type": "code",
   "execution_count": 6,
   "source": [
    "# it uses extend list in the background not the append.\r\n",
    "\r\n",
    "l2 = [10,30,40,80,90]\r\n",
    "l3 = ['hari',\"ria\",\"eena\"]\r\n",
    "l4 = l2 +l3 \r\n",
    "print(l4)"
   ],
   "outputs": [
    {
     "output_type": "stream",
     "name": "stdout",
     "text": [
      "[10, 30, 40, 80, 90, 'hari', 'ria', 'eena']\n"
     ]
    }
   ],
   "metadata": {}
  },
  {
   "cell_type": "markdown",
   "source": [
    "### List count() function"
   ],
   "metadata": {}
  },
  {
   "cell_type": "code",
   "execution_count": 15,
   "source": [
    "l2 = [10,30,40,80,90,80,30,40,90,50,10,20,30,30]\r\n",
    "l2.count(30)\r\n",
    "for i in set(l2):\r\n",
    "    print(i ,\" :\",l2.count(i))"
   ],
   "outputs": [
    {
     "output_type": "stream",
     "name": "stdout",
     "text": [
      "40  : 2\n",
      "10  : 2\n",
      "80  : 2\n",
      "50  : 1\n",
      "20  : 1\n",
      "90  : 2\n",
      "30  : 4\n"
     ]
    }
   ],
   "metadata": {}
  },
  {
   "cell_type": "markdown",
   "source": [
    "### List comprehension "
   ],
   "metadata": {}
  },
  {
   "cell_type": "code",
   "execution_count": 20,
   "source": [
    "## Printing the squares of the numbers in the list \r\n",
    "## Example 1 :\r\n",
    "\r\n",
    "l1 = [1,3,9,7,8,2,3,4,5,6,7]\r\n",
    "\r\n",
    "l2 = [ i**2 for i in set(l1)]\r\n",
    "print(l2)"
   ],
   "outputs": [
    {
     "output_type": "stream",
     "name": "stdout",
     "text": [
      "[1, 4, 9, 16, 25, 36, 49, 64, 81]\n"
     ]
    }
   ],
   "metadata": {}
  },
  {
   "cell_type": "code",
   "execution_count": 22,
   "source": [
    "## Example 2 :\n",
    "## printing list comprehension with coditions\n",
    "l1 = [4,5,6,3,5,45,34]\n",
    "\n",
    "l3 = [x for x in l1 if x>=5]\n",
    "\n",
    "l3"
   ],
   "outputs": [
    {
     "output_type": "execute_result",
     "data": {
      "text/plain": [
       "[5, 6, 5, 45, 34]"
      ]
     },
     "metadata": {},
     "execution_count": 22
    }
   ],
   "metadata": {}
  },
  {
   "cell_type": "code",
   "execution_count": 24,
   "source": [
    "## Example 3 : \n",
    "## we have a ist of tuples  here [(number,square of that number)]\n",
    "l1 = [-10,-20,10,20,50] \n",
    "l2 = [(i,i**2) for i in l1]\n",
    "print(l2)\n"
   ],
   "outputs": [
    {
     "output_type": "stream",
     "name": "stdout",
     "text": [
      "[(-10, 100), (-20, 400), (10, 100), (20, 400), (50, 2500)]\n"
     ]
    }
   ],
   "metadata": {}
  },
  {
   "cell_type": "markdown",
   "source": [
    "### useful for matrix calculation - Nested Lists"
   ],
   "metadata": {}
  },
  {
   "cell_type": "code",
   "execution_count": 26,
   "source": [
    "### Nested list - to calculate Transpose of the matrix\n",
    "\n",
    "\n",
    "matrix = [[1,2,3,10],[4,5,6,11],[7,8,9,12]]\n",
    "\n",
    "##transpose = [[ ]for i in range()] step-1 outer loop is defined in the outer list as list comprehension \n",
    "\n",
    "transpose = [[row[i] for row in matrix]for i in range(4)] \n",
    "# as for transpose each column will be row for new matrix. 4 cols here \n",
    "# we define inner loop for rows of matrix, 3 rows here \n",
    "# as we want each column element value as new row list element we use row[i] -as element value\n",
    "\n",
    "print(transpose)\n"
   ],
   "outputs": [
    {
     "output_type": "stream",
     "name": "stdout",
     "text": [
      "[[1, 4, 7], [2, 5, 8], [3, 6, 9], [10, 11, 12]]\n"
     ]
    }
   ],
   "metadata": {}
  },
  {
   "cell_type": "code",
   "execution_count": null,
   "source": [
    "## Traditional approach for creating Transpose would be as follows : \n",
    "\n",
    "\n",
    "\n",
    "\n"
   ],
   "outputs": [],
   "metadata": {}
  },
  {
   "cell_type": "markdown",
   "source": [
    "### Another example for nested list on hacker rank :\n",
    "#### <font color= red > To find the second minimum score in input list <font/>\n",
    "\n",
    "INPUT : \n",
    "5\n",
    "Harry\n",
    "37.21\n",
    "Berry\n",
    "37.21\n",
    "Tina\n",
    "37.2\n",
    "Akriti\n",
    "41\n",
    "Harsh\n",
    "39\n",
    "\n",
    "#### list to create \n",
    " python students = [['Harry', 37.21], ['Berry', 37.21], ['Tina', 37.2], ['Akriti', 41], ['Harsh', 39]]\n",
    "\n",
    " **marksheet = []**<br>\n",
    "**for _ in range( 0,int(input()) ):**<br>\n",
    "> **marksheet.append( [ input(), float(input()) ] )** <br>\n",
    "<br>\n",
    "\n",
    "**second_highest = sorted(list(set([marks for name, marks in marksheet])))[1]** <br>\n",
    "**print('\\n'.join([a for a,b in sorted(marksheet) if b == second_highest]))**<br>"
   ],
   "metadata": {}
  },
  {
   "cell_type": "markdown",
   "source": [
    "### <Font color = blue> SETS BEGIN FROM HERE ! <Font/>"
   ],
   "metadata": {}
  },
  {
   "cell_type": "markdown",
   "source": [
    "- A set is an unorderd collection of data types.\n",
    "- A set is mutable and unordered means it can't be indexed. that mean print(s[2]) won't work.\n",
    "- A set could not hold duplicate data "
   ],
   "metadata": {}
  },
  {
   "cell_type": "code",
   "execution_count": 2,
   "source": [
    "s = {1,2,3,3,1,2,1,3,1,3,4,5}\n",
    "print(s)"
   ],
   "outputs": [
    {
     "output_type": "stream",
     "name": "stdout",
     "text": [
      "{1, 2, 3, 4, 5}\n"
     ]
    }
   ],
   "metadata": {}
  },
  {
   "cell_type": "code",
   "execution_count": 9,
   "source": [
    "l1 = [1,2,54,6,4,6,7,4,6,5,6]\n",
    "s = set(l1)\n",
    "print(s)\n",
    "s1 = set() #empty set\n",
    "print(type(s1))"
   ],
   "outputs": [
    {
     "output_type": "stream",
     "name": "stdout",
     "text": [
      "{1, 2, 4, 5, 6, 7, 54}\n",
      "<class 'set'>\n"
     ]
    }
   ],
   "metadata": {}
  },
  {
   "cell_type": "code",
   "execution_count": 10,
   "source": [
    "s ={1,3}\n",
    "print(s[1])"
   ],
   "outputs": [
    {
     "output_type": "error",
     "ename": "TypeError",
     "evalue": "'set' object does not support indexing",
     "traceback": [
      "\u001b[1;31m---------------------------------------------------------------------------\u001b[0m",
      "\u001b[1;31mTypeError\u001b[0m                                 Traceback (most recent call last)",
      "\u001b[1;32m<ipython-input-10-aca3a4691da0>\u001b[0m in \u001b[0;36m<module>\u001b[1;34m\u001b[0m\n\u001b[0;32m      1\u001b[0m \u001b[0ms\u001b[0m \u001b[1;33m=\u001b[0m\u001b[1;33m{\u001b[0m\u001b[1;36m1\u001b[0m\u001b[1;33m,\u001b[0m\u001b[1;36m3\u001b[0m\u001b[1;33m}\u001b[0m\u001b[1;33m\u001b[0m\u001b[1;33m\u001b[0m\u001b[0m\n\u001b[1;32m----> 2\u001b[1;33m \u001b[0mprint\u001b[0m\u001b[1;33m(\u001b[0m\u001b[0ms\u001b[0m\u001b[1;33m[\u001b[0m\u001b[1;36m1\u001b[0m\u001b[1;33m]\u001b[0m\u001b[1;33m)\u001b[0m\u001b[1;33m\u001b[0m\u001b[1;33m\u001b[0m\u001b[0m\n\u001b[0m",
      "\u001b[1;31mTypeError\u001b[0m: 'set' object does not support indexing"
     ]
    }
   ],
   "metadata": {}
  },
  {
   "cell_type": "markdown",
   "source": [
    "#### For adding and removing elements from the sets "
   ],
   "metadata": {}
  },
  {
   "cell_type": "code",
   "execution_count": 15,
   "source": [
    "s.add(2) # for adding element in the set\n",
    "print(s)\n",
    "s.update([1,2,4,2,4,2]) # update is used to add multiple element in the set via list \n",
    "print(s)"
   ],
   "outputs": [
    {
     "output_type": "stream",
     "name": "stdout",
     "text": [
      "{1, 2, 3}\n",
      "{1, 2, 3, 4}\n"
     ]
    }
   ],
   "metadata": {}
  },
  {
   "cell_type": "code",
   "execution_count": 18,
   "source": [
    "# for removing elements from the sets use dicard property.\n",
    "s.discard(4)  # discard doesn't generate any error whereas remove generate error when element to be deleted does not present in the list\n",
    "s.remove(7)"
   ],
   "outputs": [
    {
     "output_type": "error",
     "ename": "KeyError",
     "evalue": "7",
     "traceback": [
      "\u001b[1;31m---------------------------------------------------------------------------\u001b[0m",
      "\u001b[1;31mKeyError\u001b[0m                                  Traceback (most recent call last)",
      "\u001b[1;32m<ipython-input-18-877fe9735b2d>\u001b[0m in \u001b[0;36m<module>\u001b[1;34m\u001b[0m\n\u001b[0;32m      1\u001b[0m \u001b[1;31m# for removing elements from the sets use dicard property.\u001b[0m\u001b[1;33m\u001b[0m\u001b[1;33m\u001b[0m\u001b[1;33m\u001b[0m\u001b[0m\n\u001b[0;32m      2\u001b[0m \u001b[0ms\u001b[0m\u001b[1;33m.\u001b[0m\u001b[0mdiscard\u001b[0m\u001b[1;33m(\u001b[0m\u001b[1;36m4\u001b[0m\u001b[1;33m)\u001b[0m  \u001b[1;31m# discard doesn't generate any error whereas remove generate error when element to be deleted does not present in the list\u001b[0m\u001b[1;33m\u001b[0m\u001b[1;33m\u001b[0m\u001b[0m\n\u001b[1;32m----> 3\u001b[1;33m \u001b[0ms\u001b[0m\u001b[1;33m.\u001b[0m\u001b[0mremove\u001b[0m\u001b[1;33m(\u001b[0m\u001b[1;36m7\u001b[0m\u001b[1;33m)\u001b[0m\u001b[1;33m\u001b[0m\u001b[1;33m\u001b[0m\u001b[0m\n\u001b[0m",
      "\u001b[1;31mKeyError\u001b[0m: 7"
     ]
    }
   ],
   "metadata": {}
  },
  {
   "cell_type": "code",
   "execution_count": 17,
   "source": [
    "print(s)"
   ],
   "outputs": [
    {
     "output_type": "stream",
     "name": "stdout",
     "text": [
      "{1, 2, 3}\n"
     ]
    }
   ],
   "metadata": {}
  },
  {
   "cell_type": "code",
   "execution_count": 21,
   "source": [
    "# Pop removes any element from sets randomly \n",
    "s = {1,2,3,4,5,6}\n",
    "s.pop()\n",
    "print(s)"
   ],
   "outputs": [
    {
     "output_type": "stream",
     "name": "stdout",
     "text": [
      "{2, 3, 4, 5, 6}\n"
     ]
    }
   ],
   "metadata": {}
  },
  {
   "cell_type": "code",
   "execution_count": 22,
   "source": [
    "# Clear removes all element from the set and provide you with empty set.\n",
    "s.clear()\n",
    "print(s)"
   ],
   "outputs": [
    {
     "output_type": "stream",
     "name": "stdout",
     "text": [
      "set()\n"
     ]
    }
   ],
   "metadata": {}
  },
  {
   "cell_type": "markdown",
   "source": [
    "##### UNION AND INTERSECTION OPERATIONS"
   ],
   "metadata": {}
  },
  {
   "cell_type": "code",
   "execution_count": 2,
   "source": [
    "# UNION\n",
    "# Pipe oerator is used for providing the union between two sets.\n",
    "s1 = {1,2,3,4,5,6}\n",
    "s2 = {2,4,8,9}\n",
    "\n",
    "s3 = s1|s2\n",
    "print(s3) # Both are correct ways of writing a union.\n",
    "print(s1.union(s2)) # Both are correct ways of writing a union."
   ],
   "outputs": [
    {
     "output_type": "stream",
     "name": "stdout",
     "text": [
      "{1, 2, 3, 4, 5, 6, 8, 9}\n",
      "{1, 2, 3, 4, 5, 6, 8, 9}\n"
     ]
    }
   ],
   "metadata": {}
  },
  {
   "cell_type": "code",
   "execution_count": 4,
   "source": [
    "#INTERSECTION (using '&' operator as well)\n",
    "\n",
    "print(s1.intersection(s2))\n",
    "print(s1&s2)"
   ],
   "outputs": [
    {
     "output_type": "stream",
     "name": "stdout",
     "text": [
      "{2, 4}\n",
      "{2, 4}\n"
     ]
    }
   ],
   "metadata": {}
  },
  {
   "cell_type": "code",
   "execution_count": 6,
   "source": [
    "# Set difference s1 -s2 (items in A but not in B)\n",
    "# Use either ('-' or difference function)\n",
    "\n",
    "print(s1-s2)\n",
    "print(s1.difference(s2))\n",
    "\n",
    "print(s2.difference(s1))"
   ],
   "outputs": [
    {
     "output_type": "stream",
     "name": "stdout",
     "text": [
      "{1, 3, 5, 6}\n",
      "{1, 3, 5, 6}\n",
      "{8, 9}\n"
     ]
    }
   ],
   "metadata": {}
  },
  {
   "cell_type": "code",
   "execution_count": 9,
   "source": [
    "## Symmetric difference \n",
    "## In ven diagram theory it is represented by (AUB) - (A.intersectionB) \n",
    "## Use '^' operator or symmetric_difference()\n",
    "\n",
    "print(s1.symmetric_difference(s2))\n",
    "print(s1^s2)"
   ],
   "outputs": [
    {
     "output_type": "stream",
     "name": "stdout",
     "text": [
      "{1, 3, 5, 6, 8, 9}\n",
      "{1, 3, 5, 6, 8, 9}\n"
     ]
    }
   ],
   "metadata": {}
  },
  {
   "cell_type": "markdown",
   "source": [
    "### issubset() "
   ],
   "metadata": {}
  },
  {
   "cell_type": "code",
   "execution_count": 13,
   "source": [
    "# find issubset()\n",
    "\n",
    "A = {'a','d','e','s','c','t','d','p','g'}\n",
    "B = {'c','d','p'}\n",
    "\n",
    "print(A.issubset(B))\n",
    "print(B.issubset(A))"
   ],
   "outputs": [
    {
     "output_type": "stream",
     "name": "stdout",
     "text": [
      "False\n",
      "True\n"
     ]
    }
   ],
   "metadata": {}
  },
  {
   "cell_type": "markdown",
   "source": [
    "### Forzen Sets "
   ],
   "metadata": {}
  },
  {
   "cell_type": "markdown",
   "source": [
    "just like tuple(immutable):list(mutable) sets also have simmilar thing\n",
    "Frozen_sets(immutable): sets(mutable)\n",
    "- forzen sets has characterstics of sets, but we can't change once it is assigned, while tuples are immutable lists frozen sets are immutable sets.\n",
    "- frozen sets can be created using function called frozenset().\n",
    "- sets being mutable are unhashable ie we cant use them as dictionary keys. Frozensets can be used.\n",
    "- this datatype supports functions like \n",
    "* copy()\n",
    "* difference()\n",
    "* intersection()\n",
    "* isdisjoint()\n",
    "* issubset()\n",
    "* issuperset()\n",
    "* symmetric_difference()\n",
    "* union()\n"
   ],
   "metadata": {}
  },
  {
   "cell_type": "code",
   "execution_count": 15,
   "source": [
    "Z = frozenset({1,2,4,5,3,6})\n",
    "Y = frozenset({9,8,6,7,4})\n",
    "\n",
    "Y.add(10)"
   ],
   "outputs": [
    {
     "output_type": "error",
     "ename": "AttributeError",
     "evalue": "'frozenset' object has no attribute 'add'",
     "traceback": [
      "\u001b[1;31m---------------------------------------------------------------------------\u001b[0m",
      "\u001b[1;31mAttributeError\u001b[0m                            Traceback (most recent call last)",
      "\u001b[1;32m<ipython-input-15-50e18de198bd>\u001b[0m in \u001b[0;36m<module>\u001b[1;34m\u001b[0m\n\u001b[0;32m      2\u001b[0m \u001b[0mY\u001b[0m \u001b[1;33m=\u001b[0m \u001b[0mfrozenset\u001b[0m\u001b[1;33m(\u001b[0m\u001b[1;33m{\u001b[0m\u001b[1;36m9\u001b[0m\u001b[1;33m,\u001b[0m\u001b[1;36m8\u001b[0m\u001b[1;33m,\u001b[0m\u001b[1;36m6\u001b[0m\u001b[1;33m,\u001b[0m\u001b[1;36m7\u001b[0m\u001b[1;33m,\u001b[0m\u001b[1;36m4\u001b[0m\u001b[1;33m}\u001b[0m\u001b[1;33m)\u001b[0m\u001b[1;33m\u001b[0m\u001b[1;33m\u001b[0m\u001b[0m\n\u001b[0;32m      3\u001b[0m \u001b[1;33m\u001b[0m\u001b[0m\n\u001b[1;32m----> 4\u001b[1;33m \u001b[0mY\u001b[0m\u001b[1;33m.\u001b[0m\u001b[0madd\u001b[0m\u001b[1;33m(\u001b[0m\u001b[1;36m10\u001b[0m\u001b[1;33m)\u001b[0m\u001b[1;33m\u001b[0m\u001b[1;33m\u001b[0m\u001b[0m\n\u001b[0m",
      "\u001b[1;31mAttributeError\u001b[0m: 'frozenset' object has no attribute 'add'"
     ]
    }
   ],
   "metadata": {}
  },
  {
   "cell_type": "code",
   "execution_count": 16,
   "source": [
    "print(Z.union(Y))"
   ],
   "outputs": [
    {
     "output_type": "stream",
     "name": "stdout",
     "text": [
      "frozenset({1, 2, 3, 4, 5, 6, 7, 8, 9})\n"
     ]
    }
   ],
   "metadata": {}
  },
  {
   "cell_type": "code",
   "execution_count": 17,
   "source": [
    "print(Z.intersection(Y))"
   ],
   "outputs": [
    {
     "output_type": "stream",
     "name": "stdout",
     "text": [
      "frozenset({4, 6})\n"
     ]
    }
   ],
   "metadata": {}
  },
  {
   "cell_type": "code",
   "execution_count": 18,
   "source": [
    "print(Z.issubset(Y))"
   ],
   "outputs": [
    {
     "output_type": "stream",
     "name": "stdout",
     "text": [
      "False\n"
     ]
    }
   ],
   "metadata": {}
  },
  {
   "cell_type": "code",
   "execution_count": null,
   "source": [],
   "outputs": [],
   "metadata": {}
  }
 ],
 "metadata": {
  "kernelspec": {
   "display_name": "Python 3",
   "language": "python",
   "name": "python3"
  },
  "language_info": {
   "codemirror_mode": {
    "name": "ipython",
    "version": 3
   },
   "file_extension": ".py",
   "mimetype": "text/x-python",
   "name": "python",
   "nbconvert_exporter": "python",
   "pygments_lexer": "ipython3",
   "version": "3.7.1"
  }
 },
 "nbformat": 4,
 "nbformat_minor": 2
}