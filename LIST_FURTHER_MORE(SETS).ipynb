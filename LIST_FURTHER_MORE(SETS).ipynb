{
 "cells": [
  {
   "cell_type": "markdown",
   "metadata": {},
   "source": [
    "### List furthur more "
   ]
  },
  {
   "cell_type": "code",
   "execution_count": 5,
   "metadata": {},
   "outputs": [
    {
     "name": "stdout",
     "output_type": "stream",
     "text": [
      "five\n",
      "['two']\n",
      "['two', 'four']\n"
     ]
    }
   ],
   "source": [
    "# string.split('delimeter') default character is white character - space and tab\n",
    "\n",
    "## List indexing \n",
    "\n",
    "l1 = [\"one\",\"two\",\"three\", \"four\", \"five\"]\n",
    "print(l1[-1])\n",
    "\n",
    "print (l1[1:2])\n",
    "print(l1[1:-1:2]) # start index - 0 position, end index -1 ,step_size = 2(value at second step)"
   ]
  },
  {
   "cell_type": "code",
   "execution_count": 26,
   "metadata": {},
   "outputs": [],
   "source": [
    "# wraping up the string : \n",
    "def wrap(string, max_width):\n",
    "    return ' '.join([string[i:i+max_width] for i in range(0, len(string), max_width)])\n",
    "\n",
    "s ='edbhrbfrbfuirefbiuebf'"
   ]
  },
  {
   "cell_type": "code",
   "execution_count": 27,
   "metadata": {},
   "outputs": [
    {
     "data": {
      "text/plain": [
       "'edbhr bfrbf uiref biueb f'"
      ]
     },
     "execution_count": 27,
     "metadata": {},
     "output_type": "execute_result"
    }
   ],
   "source": [
    "wrap(s,5)"
   ]
  },
  {
   "cell_type": "markdown",
   "metadata": {},
   "source": [
    "### List extend usnig '+'"
   ]
  },
  {
   "cell_type": "code",
   "execution_count": 6,
   "metadata": {},
   "outputs": [
    {
     "name": "stdout",
     "output_type": "stream",
     "text": [
      "[10, 30, 40, 80, 90, 'hari', 'ria', 'eena']\n"
     ]
    }
   ],
   "source": [
    "# it uses extend list in the background not the append.\n",
    "\n",
    "l2 = [10,30,40,80,90]\n",
    "l3 = ['hari',\"ria\",\"eena\"]\n",
    "l4 = l2 +l3 \n",
    "print(l4)"
   ]
  },
  {
   "cell_type": "markdown",
   "metadata": {},
   "source": [
    "### List count() function"
   ]
  },
  {
   "cell_type": "code",
   "execution_count": 15,
   "metadata": {},
   "outputs": [
    {
     "name": "stdout",
     "output_type": "stream",
     "text": [
      "40  : 2\n",
      "10  : 2\n",
      "80  : 2\n",
      "50  : 1\n",
      "20  : 1\n",
      "90  : 2\n",
      "30  : 4\n"
     ]
    }
   ],
   "source": [
    "l2 = [10,30,40,80,90,80,30,40,90,50,10,20,30,30]\n",
    "l2.count(30)\n",
    "for i in set(l2):\n",
    "    print(i ,\" :\",l2.count(i))"
   ]
  },
  {
   "cell_type": "markdown",
   "metadata": {},
   "source": [
    "### List comprehension "
   ]
  },
  {
   "cell_type": "code",
   "execution_count": 20,
   "metadata": {},
   "outputs": [
    {
     "name": "stdout",
     "output_type": "stream",
     "text": [
      "[1, 4, 9, 16, 25, 36, 49, 64, 81]\n"
     ]
    }
   ],
   "source": [
    "## Printing the squares of the numbers in the list \n",
    "## Example 1 :\n",
    "\n",
    "l1 = [1,3,9,7,8,2,3,4,5,6,7]\n",
    "\n",
    "l2 = [ i**2 for i in set(l1)]\n",
    "print(l2)"
   ]
  },
  {
   "cell_type": "code",
   "execution_count": 22,
   "metadata": {},
   "outputs": [
    {
     "data": {
      "text/plain": [
       "[5, 6, 5, 45, 34]"
      ]
     },
     "execution_count": 22,
     "metadata": {},
     "output_type": "execute_result"
    }
   ],
   "source": [
    "## Example 2 :\n",
    "## printing list comprehension with coditions\n",
    "l1 = [4,5,6,3,5,45,34]\n",
    "\n",
    "l3 = [x for x in l1 if x>=5]\n",
    "\n",
    "l3"
   ]
  },
  {
   "cell_type": "code",
   "execution_count": 24,
   "metadata": {},
   "outputs": [
    {
     "name": "stdout",
     "output_type": "stream",
     "text": [
      "[(-10, 100), (-20, 400), (10, 100), (20, 400), (50, 2500)]\n"
     ]
    }
   ],
   "source": [
    "## Example 3 : \n",
    "## we have a ist of tuples  here [(number,square of that number)]\n",
    "l1 = [-10,-20,10,20,50] \n",
    "l2 = [(i,i**2) for i in l1]\n",
    "print(l2)\n"
   ]
  },
  {
   "cell_type": "markdown",
   "metadata": {},
   "source": [
    "### useful for matrix calculation - Nested Lists"
   ]
  },
  {
   "cell_type": "code",
   "execution_count": 26,
   "metadata": {},
   "outputs": [
    {
     "name": "stdout",
     "output_type": "stream",
     "text": [
      "[[1, 4, 7], [2, 5, 8], [3, 6, 9], [10, 11, 12]]\n"
     ]
    }
   ],
   "source": [
    "### Nested list - to calculate Transpose of the matrix\n",
    "\n",
    "\n",
    "matrix = [[1,2,3,10],[4,5,6,11],[7,8,9,12]]\n",
    "\n",
    "##transpose = [[ ]for i in range()] step-1 outer loop is defined in the outer list as list comprehension \n",
    "\n",
    "transpose = [[row[i] for row in matrix]for i in range(4)] \n",
    "# as for transpose each column will be row for new matrix. 4 cols here \n",
    "# we define inner loop for rows of matrix, 3 rows here \n",
    "# as we want each column element value as new row list element we use row[i] -as element value\n",
    "\n",
    "print(transpose)\n"
   ]
  },
  {
   "cell_type": "code",
   "execution_count": null,
   "metadata": {},
   "outputs": [],
   "source": [
    "## Traditional approach for creating Transpose would be as follows : \n",
    "\n",
    "\n",
    "\n",
    "\n"
   ]
  },
  {
   "cell_type": "markdown",
   "metadata": {},
   "source": [
    "### Another example for nested list on hacker rank :\n",
    "#### <font color= red > To find the second minimum score in input list <font/>\n",
    "\n",
    "INPUT : \n",
    "5\n",
    "Harry\n",
    "37.21\n",
    "Berry\n",
    "37.21\n",
    "Tina\n",
    "37.2\n",
    "Akriti\n",
    "41\n",
    "Harsh\n",
    "39\n",
    "\n",
    "#### list to create \n",
    " python students = [['Harry', 37.21], ['Berry', 37.21], ['Tina', 37.2], ['Akriti', 41], ['Harsh', 39]]\n",
    "\n",
    " **marksheet = []**<br>\n",
    "**for _ in range( 0,int(input()) ):**<br>\n",
    "> **marksheet.append( [ input(), float(input()) ] )** <br>\n",
    "<br>\n",
    "\n",
    "**second_highest = sorted(list(set([marks for name, marks in marksheet])))[1]** <br>\n",
    "**print('\\n'.join([a for a,b in sorted(marksheet) if b == second_highest]))**<br>"
   ]
  },
  {
   "cell_type": "code",
   "execution_count": 2,
   "metadata": {},
   "outputs": [],
   "source": [
    "def second_highest():\n",
    "    marksheet = []\n",
    "    for _ in range(0,int(input())):\n",
    "        marksheet.append([input(),float(input())])\n",
    "        \n",
    "    second_highest=sorted(list(set([marks for name,marks in marksheet])))[1]\n",
    "    return('\\n'.join([a for a,b in sorted(marksheet) if b == second_highest]))\n"
   ]
  },
  {
   "cell_type": "code",
   "execution_count": 3,
   "metadata": {},
   "outputs": [
    {
     "name": "stdout",
     "output_type": "stream",
     "text": [
      "3\n",
      "hari\n",
      "32.1\n",
      "cola\n",
      "23.4\n",
      "maxi\n",
      "98\n"
     ]
    },
    {
     "data": {
      "text/plain": [
       "'hari'"
      ]
     },
     "execution_count": 3,
     "metadata": {},
     "output_type": "execute_result"
    }
   ],
   "source": [
    "second_highest()"
   ]
  },
  {
   "cell_type": "code",
   "execution_count": 1,
   "metadata": {},
   "outputs": [
    {
     "data": {
      "text/plain": [
       "[9, 8, 2, 3]"
      ]
     },
     "execution_count": 1,
     "metadata": {},
     "output_type": "execute_result"
    }
   ],
   "source": [
    "l = [3,2,8,9]\n",
    "\n",
    "l[::-1]"
   ]
  },
  {
   "cell_type": "code",
   "execution_count": 2,
   "metadata": {},
   "outputs": [],
   "source": [
    "length = len(l)"
   ]
  },
  {
   "cell_type": "code",
   "execution_count": 3,
   "metadata": {},
   "outputs": [
    {
     "name": "stdout",
     "output_type": "stream",
     "text": [
      "[9, 8, 2, 3]\n"
     ]
    }
   ],
   "source": [
    "l = [3,2,8,9]\n",
    "ln = len(l)\n",
    "x = []\n",
    "for i in range(ln):\n",
    "    x.append(l[ln -i-1])\n",
    "print(x)"
   ]
  },
  {
   "cell_type": "code",
   "execution_count": 4,
   "metadata": {},
   "outputs": [
    {
     "name": "stdout",
     "output_type": "stream",
     "text": [
      "[9, 8, 2, 3]\n"
     ]
    }
   ],
   "source": [
    "l = [3,2,8,9]\n",
    "ln = len(l)\n",
    "x = []\n",
    "for i in range(ln):\n",
    "     x.insert(i,l[ln -i-1])\n",
    "print(x)"
   ]
  },
  {
   "cell_type": "code",
   "execution_count": 5,
   "metadata": {},
   "outputs": [
    {
     "name": "stdout",
     "output_type": "stream",
     "text": [
      "0\n",
      "1\n",
      "2\n",
      "3\n"
     ]
    }
   ],
   "source": [
    "l = [3,2,8,9]\n",
    "ln = len(l)\n",
    "x = []\n",
    "for i,v in enumerate(l):\n",
    "    print(i)"
   ]
  },
  {
   "cell_type": "code",
   "execution_count": 6,
   "metadata": {},
   "outputs": [
    {
     "name": "stdout",
     "output_type": "stream",
     "text": [
      "this is even 0\n",
      "odd\n",
      "this is even 2\n",
      "odd\n",
      "this is even 4\n",
      "odd\n",
      "this is even 6\n",
      "odd\n",
      "this is even 8\n",
      "odd\n",
      "this is even 10\n"
     ]
    }
   ],
   "source": [
    "for i in range(0,11):\n",
    "    if i % 2 == 0:\n",
    "        print(\"this is even\" ,i )\n",
    "    else: \n",
    "        print(\"odd\")"
   ]
  },
  {
   "cell_type": "code",
   "execution_count": 28,
   "metadata": {},
   "outputs": [
    {
     "name": "stdout",
     "output_type": "stream",
     "text": [
      "54321\n"
     ]
    }
   ],
   "source": [
    "n = 12345\n",
    "sum = 15\n",
    "output = 54321\n",
    "s =0\n",
    "while ( n > 0):\n",
    "    rem = n % 10\n",
    "    n = n // 10\n",
    "    \n",
    "    s = rem + s*10\n",
    "    \n",
    "print(s)"
   ]
  },
  {
   "cell_type": "code",
   "execution_count": 8,
   "metadata": {},
   "outputs": [
    {
     "name": "stdout",
     "output_type": "stream",
     "text": [
      "15\n"
     ]
    }
   ],
   "source": [
    "n = 12345\n",
    "sum = 15\n",
    "output = 54321\n",
    "s =0\n",
    "while ( n > 0):\n",
    "    rem = n % 10\n",
    "    n = n // 10\n",
    "    \n",
    "    s = rem + s\n",
    "    \n",
    "print(s)"
   ]
  },
  {
   "cell_type": "code",
   "execution_count": 31,
   "metadata": {},
   "outputs": [],
   "source": [
    "# use of startswith for string\n",
    "\n",
    "def count_substring(string, sub_string):\n",
    "    count = 0\n",
    "    for i in range(len(string)):\n",
    "        if string[i:].startswith(sub_string):\n",
    "            count += 1\n",
    "    return count\n",
    "            "
   ]
  },
  {
   "cell_type": "code",
   "execution_count": 33,
   "metadata": {},
   "outputs": [
    {
     "data": {
      "text/plain": [
       "2"
      ]
     },
     "execution_count": 33,
     "metadata": {},
     "output_type": "execute_result"
    }
   ],
   "source": [
    "count_substring('ABCDCDC','CDC')"
   ]
  },
  {
   "cell_type": "markdown",
   "metadata": {},
   "source": [
    "### <Font color = blue> SETS BEGIN FROM HERE ! <Font/>"
   ]
  },
  {
   "cell_type": "markdown",
   "metadata": {},
   "source": [
    "- A set is an unorderd collection of data types.\n",
    "- A set is mutable and unordered means it can't be indexed. that mean print(s[2]) won't work.\n",
    "- A set could not hold duplicate data "
   ]
  },
  {
   "cell_type": "code",
   "execution_count": 2,
   "metadata": {},
   "outputs": [
    {
     "name": "stdout",
     "output_type": "stream",
     "text": [
      "{1, 2, 3, 4, 5}\n"
     ]
    }
   ],
   "source": [
    "s = {1,2,3,3,1,2,1,3,1,3,4,5}\n",
    "print(s)"
   ]
  },
  {
   "cell_type": "code",
   "execution_count": 9,
   "metadata": {},
   "outputs": [
    {
     "name": "stdout",
     "output_type": "stream",
     "text": [
      "{1, 2, 4, 5, 6, 7, 54}\n",
      "<class 'set'>\n"
     ]
    }
   ],
   "source": [
    "l1 = [1,2,54,6,4,6,7,4,6,5,6]\n",
    "s = set(l1)\n",
    "print(s)\n",
    "s1 = set() #empty set\n",
    "print(type(s1))"
   ]
  },
  {
   "cell_type": "code",
   "execution_count": 10,
   "metadata": {},
   "outputs": [
    {
     "ename": "TypeError",
     "evalue": "'set' object does not support indexing",
     "output_type": "error",
     "traceback": [
      "\u001b[1;31m---------------------------------------------------------------------------\u001b[0m",
      "\u001b[1;31mTypeError\u001b[0m                                 Traceback (most recent call last)",
      "\u001b[1;32m<ipython-input-10-aca3a4691da0>\u001b[0m in \u001b[0;36m<module>\u001b[1;34m\u001b[0m\n\u001b[0;32m      1\u001b[0m \u001b[0ms\u001b[0m \u001b[1;33m=\u001b[0m\u001b[1;33m{\u001b[0m\u001b[1;36m1\u001b[0m\u001b[1;33m,\u001b[0m\u001b[1;36m3\u001b[0m\u001b[1;33m}\u001b[0m\u001b[1;33m\u001b[0m\u001b[1;33m\u001b[0m\u001b[0m\n\u001b[1;32m----> 2\u001b[1;33m \u001b[0mprint\u001b[0m\u001b[1;33m(\u001b[0m\u001b[0ms\u001b[0m\u001b[1;33m[\u001b[0m\u001b[1;36m1\u001b[0m\u001b[1;33m]\u001b[0m\u001b[1;33m)\u001b[0m\u001b[1;33m\u001b[0m\u001b[1;33m\u001b[0m\u001b[0m\n\u001b[0m",
      "\u001b[1;31mTypeError\u001b[0m: 'set' object does not support indexing"
     ]
    }
   ],
   "source": [
    "s ={1,3}\n",
    "print(s[1])"
   ]
  },
  {
   "cell_type": "markdown",
   "metadata": {},
   "source": [
    "#### For adding and removing elements from the sets "
   ]
  },
  {
   "cell_type": "code",
   "execution_count": 15,
   "metadata": {},
   "outputs": [
    {
     "name": "stdout",
     "output_type": "stream",
     "text": [
      "{1, 2, 3}\n",
      "{1, 2, 3, 4}\n"
     ]
    }
   ],
   "source": [
    "s.add(2) # for adding element in the set\n",
    "print(s)\n",
    "s.update([1,2,4,2,4,2]) # update is used to add multiple element in the set via list \n",
    "print(s)"
   ]
  },
  {
   "cell_type": "code",
   "execution_count": 18,
   "metadata": {},
   "outputs": [
    {
     "ename": "KeyError",
     "evalue": "7",
     "output_type": "error",
     "traceback": [
      "\u001b[1;31m---------------------------------------------------------------------------\u001b[0m",
      "\u001b[1;31mKeyError\u001b[0m                                  Traceback (most recent call last)",
      "\u001b[1;32m<ipython-input-18-877fe9735b2d>\u001b[0m in \u001b[0;36m<module>\u001b[1;34m\u001b[0m\n\u001b[0;32m      1\u001b[0m \u001b[1;31m# for removing elements from the sets use dicard property.\u001b[0m\u001b[1;33m\u001b[0m\u001b[1;33m\u001b[0m\u001b[1;33m\u001b[0m\u001b[0m\n\u001b[0;32m      2\u001b[0m \u001b[0ms\u001b[0m\u001b[1;33m.\u001b[0m\u001b[0mdiscard\u001b[0m\u001b[1;33m(\u001b[0m\u001b[1;36m4\u001b[0m\u001b[1;33m)\u001b[0m  \u001b[1;31m# discard doesn't generate any error whereas remove generate error when element to be deleted does not present in the list\u001b[0m\u001b[1;33m\u001b[0m\u001b[1;33m\u001b[0m\u001b[0m\n\u001b[1;32m----> 3\u001b[1;33m \u001b[0ms\u001b[0m\u001b[1;33m.\u001b[0m\u001b[0mremove\u001b[0m\u001b[1;33m(\u001b[0m\u001b[1;36m7\u001b[0m\u001b[1;33m)\u001b[0m\u001b[1;33m\u001b[0m\u001b[1;33m\u001b[0m\u001b[0m\n\u001b[0m",
      "\u001b[1;31mKeyError\u001b[0m: 7"
     ]
    }
   ],
   "source": [
    "# for removing elements from the sets use dicard property.\n",
    "s.discard(4)  # discard doesn't generate any error whereas remove generate error when element to be deleted does not present in the list\n",
    "s.remove(7)"
   ]
  },
  {
   "cell_type": "code",
   "execution_count": 17,
   "metadata": {},
   "outputs": [
    {
     "name": "stdout",
     "output_type": "stream",
     "text": [
      "{1, 2, 3}\n"
     ]
    }
   ],
   "source": [
    "print(s)"
   ]
  },
  {
   "cell_type": "code",
   "execution_count": 21,
   "metadata": {},
   "outputs": [
    {
     "name": "stdout",
     "output_type": "stream",
     "text": [
      "{2, 3, 4, 5, 6}\n"
     ]
    }
   ],
   "source": [
    "# Pop removes any element from sets randomly \n",
    "s = {1,2,3,4,5,6}\n",
    "s.pop()\n",
    "print(s)"
   ]
  },
  {
   "cell_type": "code",
   "execution_count": 22,
   "metadata": {},
   "outputs": [
    {
     "name": "stdout",
     "output_type": "stream",
     "text": [
      "set()\n"
     ]
    }
   ],
   "source": [
    "# Clear removes all element from the set and provide you with empty set.\n",
    "s.clear()\n",
    "print(s)"
   ]
  },
  {
   "cell_type": "markdown",
   "metadata": {},
   "source": [
    "##### UNION AND INTERSECTION OPERATIONS"
   ]
  },
  {
   "cell_type": "code",
   "execution_count": 2,
   "metadata": {},
   "outputs": [
    {
     "name": "stdout",
     "output_type": "stream",
     "text": [
      "{1, 2, 3, 4, 5, 6, 8, 9}\n",
      "{1, 2, 3, 4, 5, 6, 8, 9}\n"
     ]
    }
   ],
   "source": [
    "# UNION\n",
    "# Pipe oerator is used for providing the union between two sets.\n",
    "s1 = {1,2,3,4,5,6}\n",
    "s2 = {2,4,8,9}\n",
    "\n",
    "s3 = s1|s2\n",
    "print(s3) # Both are correct ways of writing a union.\n",
    "print(s1.union(s2)) # Both are correct ways of writing a union."
   ]
  },
  {
   "cell_type": "code",
   "execution_count": 4,
   "metadata": {},
   "outputs": [
    {
     "name": "stdout",
     "output_type": "stream",
     "text": [
      "{2, 4}\n",
      "{2, 4}\n"
     ]
    }
   ],
   "source": [
    "#INTERSECTION (using '&' operator as well)\n",
    "\n",
    "print(s1.intersection(s2))\n",
    "print(s1&s2)"
   ]
  },
  {
   "cell_type": "code",
   "execution_count": 6,
   "metadata": {},
   "outputs": [
    {
     "name": "stdout",
     "output_type": "stream",
     "text": [
      "{1, 3, 5, 6}\n",
      "{1, 3, 5, 6}\n",
      "{8, 9}\n"
     ]
    }
   ],
   "source": [
    "# Set difference s1 -s2 (items in A but not in B)\n",
    "# Use either ('-' or difference function)\n",
    "\n",
    "print(s1-s2)\n",
    "print(s1.difference(s2))\n",
    "\n",
    "print(s2.difference(s1))"
   ]
  },
  {
   "cell_type": "code",
   "execution_count": 9,
   "metadata": {},
   "outputs": [
    {
     "name": "stdout",
     "output_type": "stream",
     "text": [
      "{1, 3, 5, 6, 8, 9}\n",
      "{1, 3, 5, 6, 8, 9}\n"
     ]
    }
   ],
   "source": [
    "## Symmetric difference \n",
    "## In ven diagram theory it is represented by (AUB) - (A.intersectionB) \n",
    "## Use '^' operator or symmetric_difference()\n",
    "\n",
    "print(s1.symmetric_difference(s2))\n",
    "print(s1^s2)"
   ]
  },
  {
   "cell_type": "markdown",
   "metadata": {},
   "source": [
    "### issubset() "
   ]
  },
  {
   "cell_type": "code",
   "execution_count": 13,
   "metadata": {},
   "outputs": [
    {
     "name": "stdout",
     "output_type": "stream",
     "text": [
      "False\n",
      "True\n"
     ]
    }
   ],
   "source": [
    "# find issubset()\n",
    "\n",
    "A = {'a','d','e','s','c','t','d','p','g'}\n",
    "B = {'c','d','p'}\n",
    "\n",
    "print(A.issubset(B))\n",
    "print(B.issubset(A))"
   ]
  },
  {
   "cell_type": "markdown",
   "metadata": {},
   "source": [
    "### Forzen Sets "
   ]
  },
  {
   "cell_type": "markdown",
   "metadata": {},
   "source": [
    "just like tuple(immutable):list(mutable) sets also have simmilar thing\n",
    "Frozen_sets(immutable): sets(mutable)\n",
    "- forzen sets has characterstics of sets, but we can't change once it is assigned, while tuples are immutable lists frozen sets are immutable sets.\n",
    "- frozen sets can be created using function called frozenset().\n",
    "- sets being mutable are unhashable ie we cant use them as dictionary keys. Frozensets can be used.\n",
    "- this datatype supports functions like \n",
    "* copy()\n",
    "* difference()\n",
    "* intersection()\n",
    "* isdisjoint()\n",
    "* issubset()\n",
    "* issuperset()\n",
    "* symmetric_difference()\n",
    "* union()\n"
   ]
  },
  {
   "cell_type": "code",
   "execution_count": 15,
   "metadata": {},
   "outputs": [
    {
     "ename": "AttributeError",
     "evalue": "'frozenset' object has no attribute 'add'",
     "output_type": "error",
     "traceback": [
      "\u001b[1;31m---------------------------------------------------------------------------\u001b[0m",
      "\u001b[1;31mAttributeError\u001b[0m                            Traceback (most recent call last)",
      "\u001b[1;32m<ipython-input-15-50e18de198bd>\u001b[0m in \u001b[0;36m<module>\u001b[1;34m\u001b[0m\n\u001b[0;32m      2\u001b[0m \u001b[0mY\u001b[0m \u001b[1;33m=\u001b[0m \u001b[0mfrozenset\u001b[0m\u001b[1;33m(\u001b[0m\u001b[1;33m{\u001b[0m\u001b[1;36m9\u001b[0m\u001b[1;33m,\u001b[0m\u001b[1;36m8\u001b[0m\u001b[1;33m,\u001b[0m\u001b[1;36m6\u001b[0m\u001b[1;33m,\u001b[0m\u001b[1;36m7\u001b[0m\u001b[1;33m,\u001b[0m\u001b[1;36m4\u001b[0m\u001b[1;33m}\u001b[0m\u001b[1;33m)\u001b[0m\u001b[1;33m\u001b[0m\u001b[1;33m\u001b[0m\u001b[0m\n\u001b[0;32m      3\u001b[0m \u001b[1;33m\u001b[0m\u001b[0m\n\u001b[1;32m----> 4\u001b[1;33m \u001b[0mY\u001b[0m\u001b[1;33m.\u001b[0m\u001b[0madd\u001b[0m\u001b[1;33m(\u001b[0m\u001b[1;36m10\u001b[0m\u001b[1;33m)\u001b[0m\u001b[1;33m\u001b[0m\u001b[1;33m\u001b[0m\u001b[0m\n\u001b[0m",
      "\u001b[1;31mAttributeError\u001b[0m: 'frozenset' object has no attribute 'add'"
     ]
    }
   ],
   "source": [
    "Z = frozenset({1,2,4,5,3,6})\n",
    "Y = frozenset({9,8,6,7,4})\n",
    "\n",
    "Y.add(10)"
   ]
  },
  {
   "cell_type": "code",
   "execution_count": 16,
   "metadata": {},
   "outputs": [
    {
     "name": "stdout",
     "output_type": "stream",
     "text": [
      "frozenset({1, 2, 3, 4, 5, 6, 7, 8, 9})\n"
     ]
    }
   ],
   "source": [
    "print(Z.union(Y))"
   ]
  },
  {
   "cell_type": "code",
   "execution_count": 17,
   "metadata": {},
   "outputs": [
    {
     "name": "stdout",
     "output_type": "stream",
     "text": [
      "frozenset({4, 6})\n"
     ]
    }
   ],
   "source": [
    "print(Z.intersection(Y))"
   ]
  },
  {
   "cell_type": "code",
   "execution_count": 18,
   "metadata": {},
   "outputs": [
    {
     "name": "stdout",
     "output_type": "stream",
     "text": [
      "False\n"
     ]
    }
   ],
   "source": [
    "print(Z.issubset(Y))"
   ]
  },
  {
   "cell_type": "code",
   "execution_count": null,
   "metadata": {},
   "outputs": [],
   "source": []
  }
 ],
 "metadata": {
  "kernelspec": {
   "display_name": "Python 3",
   "language": "python",
   "name": "python3"
  },
  "language_info": {
   "codemirror_mode": {
    "name": "ipython",
    "version": 3
   },
   "file_extension": ".py",
   "mimetype": "text/x-python",
   "name": "python",
   "nbconvert_exporter": "python",
   "pygments_lexer": "ipython3",
   "version": "3.7.1"
  }
 },
 "nbformat": 4,
 "nbformat_minor": 2
}
